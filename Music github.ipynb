{
 "cells": [
  {
   "cell_type": "markdown",
   "metadata": {
    "id": "E0vqbgi9ay0H"
   },
   "source": [
    "# Яндекс.Музыка"
   ]
  },
  {
   "cell_type": "markdown",
   "metadata": {
    "id": "VUC88oWjTJw2"
   },
   "source": [
    "Сравнение Москвы и Петербурга окружено мифами. Например:\n",
    " * Москва — мегаполис, подчинённый жёсткому ритму рабочей недели;\n",
    " * Петербург — культурная столица, со своими вкусами.\n",
    "\n",
    "На данных Яндекс.Музыки вы сравните поведение пользователей двух столиц.\n",
    "\n",
    "**Цель исследования** — проверьте три гипотезы:\n",
    "1. Активность пользователей зависит от дня недели. Причём в Москве и Петербурге это проявляется по-разному.\n",
    "2. В понедельник утром в Москве преобладают одни жанры, а в Петербурге — другие. Так же и вечером пятницы преобладают разные жанры — в зависимости от города. \n",
    "3. Москва и Петербург предпочитают разные жанры музыки. В Москве чаще слушают поп-музыку, в Петербурге — русский рэп.\n",
    "\n",
    "**Ход исследования**\n",
    "\n",
    "Данные о поведении пользователей вы получите из файла `yandex_music_project.csv`. О качестве данных ничего не известно. Поэтому перед проверкой гипотез понадобится обзор данных. \n",
    "\n",
    "Вы проверите данные на ошибки и оцените их влияние на исследование. Затем, на этапе предобработки вы поищете возможность исправить самые критичные ошибки данных.\n",
    " \n",
    "Таким образом, исследование пройдёт в три этапа:\n",
    " 1. Обзор данных.\n",
    " 2. Предобработка данных.\n",
    " 3. Проверка гипотез.\n",
    "\n"
   ]
  },
  {
   "cell_type": "markdown",
   "metadata": {
    "id": "Ml1hmfXC_Zcs"
   },
   "source": [
    "## Обзор данных\n",
    "\n",
    "\n",
    "\n",
    "\n"
   ]
  },
  {
   "cell_type": "markdown",
   "metadata": {
    "id": "57eAOGIz_Zcs"
   },
   "source": [
    "Основной инструмент аналитика — `pandas`. Импортируйте эту библиотеку."
   ]
  },
  {
   "cell_type": "code",
   "execution_count": 1,
   "metadata": {
    "id": "AXN7PHPN_Zcs"
   },
   "outputs": [],
   "source": [
    "import pandas as pd # импорт библиотеки pandas"
   ]
  },
  {
   "cell_type": "markdown",
   "metadata": {
    "id": "SG23P8tt_Zcs"
   },
   "source": [
    "Прочитайте файл `yandex_music_project.csv` из папки `/datasets` и сохраните его в переменной `df`:"
   ]
  },
  {
   "cell_type": "code",
   "execution_count": 2,
   "metadata": {
    "id": "fFVu7vqh_Zct",
    "scrolled": true
   },
   "outputs": [],
   "source": [
    "df = pd.read_csv('/datasets/yandex_music_project.csv')# чтение файла с данными и сохранение в df"
   ]
  },
  {
   "cell_type": "markdown",
   "metadata": {
    "id": "rDoOMd3uTqnZ"
   },
   "source": [
    "Выведите на экран первые десять строк таблицы:"
   ]
  },
  {
   "cell_type": "code",
   "execution_count": 3,
   "metadata": {
    "id": "oWTVX3gW_Zct"
   },
   "outputs": [
    {
     "data": {
      "text/html": [
       "<div>\n",
       "<style scoped>\n",
       "    .dataframe tbody tr th:only-of-type {\n",
       "        vertical-align: middle;\n",
       "    }\n",
       "\n",
       "    .dataframe tbody tr th {\n",
       "        vertical-align: top;\n",
       "    }\n",
       "\n",
       "    .dataframe thead th {\n",
       "        text-align: right;\n",
       "    }\n",
       "</style>\n",
       "<table border=\"1\" class=\"dataframe\">\n",
       "  <thead>\n",
       "    <tr style=\"text-align: right;\">\n",
       "      <th></th>\n",
       "      <th>userID</th>\n",
       "      <th>Track</th>\n",
       "      <th>artist</th>\n",
       "      <th>genre</th>\n",
       "      <th>City</th>\n",
       "      <th>time</th>\n",
       "      <th>Day</th>\n",
       "    </tr>\n",
       "  </thead>\n",
       "  <tbody>\n",
       "    <tr>\n",
       "      <td>0</td>\n",
       "      <td>FFB692EC</td>\n",
       "      <td>Kamigata To Boots</td>\n",
       "      <td>The Mass Missile</td>\n",
       "      <td>rock</td>\n",
       "      <td>Saint-Petersburg</td>\n",
       "      <td>20:28:33</td>\n",
       "      <td>Wednesday</td>\n",
       "    </tr>\n",
       "    <tr>\n",
       "      <td>1</td>\n",
       "      <td>55204538</td>\n",
       "      <td>Delayed Because of Accident</td>\n",
       "      <td>Andreas Rönnberg</td>\n",
       "      <td>rock</td>\n",
       "      <td>Moscow</td>\n",
       "      <td>14:07:09</td>\n",
       "      <td>Friday</td>\n",
       "    </tr>\n",
       "    <tr>\n",
       "      <td>2</td>\n",
       "      <td>20EC38</td>\n",
       "      <td>Funiculì funiculà</td>\n",
       "      <td>Mario Lanza</td>\n",
       "      <td>pop</td>\n",
       "      <td>Saint-Petersburg</td>\n",
       "      <td>20:58:07</td>\n",
       "      <td>Wednesday</td>\n",
       "    </tr>\n",
       "    <tr>\n",
       "      <td>3</td>\n",
       "      <td>A3DD03C9</td>\n",
       "      <td>Dragons in the Sunset</td>\n",
       "      <td>Fire + Ice</td>\n",
       "      <td>folk</td>\n",
       "      <td>Saint-Petersburg</td>\n",
       "      <td>08:37:09</td>\n",
       "      <td>Monday</td>\n",
       "    </tr>\n",
       "    <tr>\n",
       "      <td>4</td>\n",
       "      <td>E2DC1FAE</td>\n",
       "      <td>Soul People</td>\n",
       "      <td>Space Echo</td>\n",
       "      <td>dance</td>\n",
       "      <td>Moscow</td>\n",
       "      <td>08:34:34</td>\n",
       "      <td>Monday</td>\n",
       "    </tr>\n",
       "    <tr>\n",
       "      <td>5</td>\n",
       "      <td>842029A1</td>\n",
       "      <td>Преданная</td>\n",
       "      <td>IMPERVTOR</td>\n",
       "      <td>rusrap</td>\n",
       "      <td>Saint-Petersburg</td>\n",
       "      <td>13:09:41</td>\n",
       "      <td>Friday</td>\n",
       "    </tr>\n",
       "    <tr>\n",
       "      <td>6</td>\n",
       "      <td>4CB90AA5</td>\n",
       "      <td>True</td>\n",
       "      <td>Roman Messer</td>\n",
       "      <td>dance</td>\n",
       "      <td>Moscow</td>\n",
       "      <td>13:00:07</td>\n",
       "      <td>Wednesday</td>\n",
       "    </tr>\n",
       "    <tr>\n",
       "      <td>7</td>\n",
       "      <td>F03E1C1F</td>\n",
       "      <td>Feeling This Way</td>\n",
       "      <td>Polina Griffith</td>\n",
       "      <td>dance</td>\n",
       "      <td>Moscow</td>\n",
       "      <td>20:47:49</td>\n",
       "      <td>Wednesday</td>\n",
       "    </tr>\n",
       "    <tr>\n",
       "      <td>8</td>\n",
       "      <td>8FA1D3BE</td>\n",
       "      <td>И вновь продолжается бой</td>\n",
       "      <td>NaN</td>\n",
       "      <td>ruspop</td>\n",
       "      <td>Moscow</td>\n",
       "      <td>09:17:40</td>\n",
       "      <td>Friday</td>\n",
       "    </tr>\n",
       "    <tr>\n",
       "      <td>9</td>\n",
       "      <td>E772D5C0</td>\n",
       "      <td>Pessimist</td>\n",
       "      <td>NaN</td>\n",
       "      <td>dance</td>\n",
       "      <td>Saint-Petersburg</td>\n",
       "      <td>21:20:49</td>\n",
       "      <td>Wednesday</td>\n",
       "    </tr>\n",
       "  </tbody>\n",
       "</table>\n",
       "</div>"
      ],
      "text/plain": [
       "     userID                        Track            artist   genre  \\\n",
       "0  FFB692EC            Kamigata To Boots  The Mass Missile    rock   \n",
       "1  55204538  Delayed Because of Accident  Andreas Rönnberg    rock   \n",
       "2    20EC38            Funiculì funiculà       Mario Lanza     pop   \n",
       "3  A3DD03C9        Dragons in the Sunset        Fire + Ice    folk   \n",
       "4  E2DC1FAE                  Soul People        Space Echo   dance   \n",
       "5  842029A1                    Преданная         IMPERVTOR  rusrap   \n",
       "6  4CB90AA5                         True      Roman Messer   dance   \n",
       "7  F03E1C1F             Feeling This Way   Polina Griffith   dance   \n",
       "8  8FA1D3BE     И вновь продолжается бой               NaN  ruspop   \n",
       "9  E772D5C0                    Pessimist               NaN   dance   \n",
       "\n",
       "             City        time        Day  \n",
       "0  Saint-Petersburg  20:28:33  Wednesday  \n",
       "1            Moscow  14:07:09     Friday  \n",
       "2  Saint-Petersburg  20:58:07  Wednesday  \n",
       "3  Saint-Petersburg  08:37:09     Monday  \n",
       "4            Moscow  08:34:34     Monday  \n",
       "5  Saint-Petersburg  13:09:41     Friday  \n",
       "6            Moscow  13:00:07  Wednesday  \n",
       "7            Moscow  20:47:49  Wednesday  \n",
       "8            Moscow  09:17:40     Friday  \n",
       "9  Saint-Petersburg  21:20:49  Wednesday  "
      ]
     },
     "metadata": {},
     "output_type": "display_data"
    }
   ],
   "source": [
    "display(df.head(10))# получение первых 10 строк таблицы df"
   ]
  },
  {
   "cell_type": "markdown",
   "metadata": {
    "id": "EO73Kwic_Zct"
   },
   "source": [
    "Одной командой получить общую информацию о таблице:"
   ]
  },
  {
   "cell_type": "code",
   "execution_count": 4,
   "metadata": {
    "id": "DSf2kIb-_Zct"
   },
   "outputs": [
    {
     "name": "stdout",
     "output_type": "stream",
     "text": [
      "<class 'pandas.core.frame.DataFrame'>\n",
      "RangeIndex: 65079 entries, 0 to 65078\n",
      "Data columns (total 7 columns):\n",
      "  userID    65079 non-null object\n",
      "Track       63848 non-null object\n",
      "artist      57876 non-null object\n",
      "genre       63881 non-null object\n",
      "  City      65079 non-null object\n",
      "time        65079 non-null object\n",
      "Day         65079 non-null object\n",
      "dtypes: object(7)\n",
      "memory usage: 3.5+ MB\n"
     ]
    }
   ],
   "source": [
    "df.info()# получение общей информации о данных в таблице df"
   ]
  },
  {
   "cell_type": "markdown",
   "metadata": {
    "id": "TaQ2Iwbr_Zct"
   },
   "source": [
    "Итак, в таблице семь столбцов. Тип данных во всех столбцах — `object`.\n",
    "\n",
    "Согласно документации к данным:\n",
    "* `userID` — идентификатор пользователя;\n",
    "* `Track` — название трека;  \n",
    "* `artist` — имя исполнителя;\n",
    "* `genre` — название жанра;\n",
    "* `City` — город пользователя;\n",
    "* `time` — время начала прослушивания;\n",
    "* `Day` — день недели.\n",
    "\n",
    "В названиях колонок видны три нарушения стиля:\n",
    "1. Строчные буквы сочетаются с прописными.\n",
    "2. Встречаются пробелы.\n",
    "3. Найдите ещё одну проблему в названии колонок и опишите её в этом пункте.\n",
    "\n",
    "\n",
    "\n",
    "Количество значений в столбцах различается. Значит, в данных есть пропущенные значения.\n"
   ]
  },
  {
   "cell_type": "markdown",
   "metadata": {
    "id": "MCB6-dXG_Zct"
   },
   "source": [
    "**Выводы**\n",
    "\n",
    "В каждой строке таблицы — данные о прослушанном треке. Часть колонок описывает саму композицию: название, исполнителя и жанр. Остальные данные рассказывают о пользователе: из какого он города, когда он слушал музыку. \n",
    "\n",
    "Предварительно можно утверждать, что, данных достаточно для проверки гипотез. Но встречаются пропуски в данных, а в названиях колонок — расхождения с хорошим стилем.\n",
    "\n",
    "Чтобы двигаться дальше, нужно устранить проблемы в данных."
   ]
  },
  {
   "cell_type": "markdown",
   "metadata": {
    "id": "SjYF6Ub9_Zct"
   },
   "source": [
    "## Предобработка данных\n",
    "Исправьте стиль в заголовках столбцов, исключите пропуски. Затем проверьте данные на дубликаты."
   ]
  },
  {
   "cell_type": "markdown",
   "metadata": {
    "id": "dIaKXr29_Zct"
   },
   "source": [
    "### Стиль заголовков\n",
    "Выведите на экран названия столбцов:"
   ]
  },
  {
   "cell_type": "code",
   "execution_count": 5,
   "metadata": {
    "id": "oKOTdF_Q_Zct"
   },
   "outputs": [
    {
     "data": {
      "text/plain": [
       "Index(['  userID', 'Track', 'artist', 'genre', '  City  ', 'time', 'Day'], dtype='object')"
      ]
     },
     "metadata": {},
     "output_type": "display_data"
    }
   ],
   "source": [
    "display(df.columns) # перечень названий столбцов таблицы df"
   ]
  },
  {
   "cell_type": "markdown",
   "metadata": {
    "id": "FPZA3ki8xe7T"
   },
   "source": []
  },
  {
   "cell_type": "markdown",
   "metadata": {
    "id": "zj5534cv_Zct"
   },
   "source": [
    "Приведите названия в соответствие с хорошим стилем:\n",
    "* несколько слов в названии запишите в «змеином_регистре»,\n",
    "* все символы сделайте строчными,\n",
    "* устраните пробелы.\n",
    "\n",
    "Для этого переименуйте колонки так:\n",
    "* `'  userID'` → `'user_id'`;\n",
    "* `'Track'` → `'track'`;\n",
    "* `'  City  '` → `'city'`;\n",
    "* `'Day'` → `'day'`."
   ]
  },
  {
   "cell_type": "code",
   "execution_count": 6,
   "metadata": {
    "id": "ISlFqs5y_Zct",
    "scrolled": true
   },
   "outputs": [
    {
     "data": {
      "text/plain": [
       "Index(['user_id', 'track', 'artist', 'genre', 'city', 'time', 'day'], dtype='object')"
      ]
     },
     "metadata": {},
     "output_type": "display_data"
    }
   ],
   "source": [
    "df = df.rename(columns={'  userID':'user_id','Track':'track','  City  ':'city','Day':'day'})\n",
    "display(df.columns) # переименование столбцов"
   ]
  },
  {
   "cell_type": "markdown",
   "metadata": {
    "id": "1dqbh00J_Zct"
   },
   "source": [
    "Проверьте результат. Для этого ещё раз выведите на экран названия столбцов:"
   ]
  },
  {
   "cell_type": "code",
   "execution_count": 7,
   "metadata": {
    "id": "d4NOAmTW_Zct"
   },
   "outputs": [
    {
     "data": {
      "text/plain": [
       "Index(['user_id', 'track', 'artist', 'genre', 'city', 'time', 'day'], dtype='object')"
      ]
     },
     "metadata": {},
     "output_type": "display_data"
    }
   ],
   "source": [
    "display(df.columns)# проверка результатов - перечень названий столбцов"
   ]
  },
  {
   "cell_type": "markdown",
   "metadata": {
    "id": "5ISfbcfY_Zct"
   },
   "source": [
    "### Пропуски значений\n",
    "Сначала посчитайте, сколько в таблице пропущенных значений. Для этого достаточно двух методов `pandas`:"
   ]
  },
  {
   "cell_type": "code",
   "execution_count": 8,
   "metadata": {
    "id": "RskX29qr_Zct",
    "scrolled": false
   },
   "outputs": [
    {
     "data": {
      "text/plain": [
       "user_id       0\n",
       "track      1231\n",
       "artist     7203\n",
       "genre      1198\n",
       "city          0\n",
       "time          0\n",
       "day           0\n",
       "dtype: int64"
      ]
     },
     "metadata": {},
     "output_type": "display_data"
    }
   ],
   "source": [
    "display(df.isna().sum())# подсчёт пропусков"
   ]
  },
  {
   "cell_type": "markdown",
   "metadata": {
    "id": "qubhgnlO_Zct"
   },
   "source": [
    "Не все пропущенные значения влияют на исследование. Так в `track` и `artist` пропуски не важны для вашей работы. Достаточно заменить их явными обозначениями.\n",
    "\n",
    "Но пропуски в `genre` могут помешать сравнению музыкальных вкусов в Москве и Санкт-Петербурге. На практике было бы правильно установить причину пропусков и восстановить данные. Такой возможности нет в учебном проекте. Придётся:\n",
    "* заполнить и эти пропуски явными обозначениями,\n",
    "* оценить, насколько они повредят расчётам. "
   ]
  },
  {
   "cell_type": "markdown",
   "metadata": {
    "id": "fSv2laPA_Zct"
   },
   "source": [
    "Замените пропущенные значения в столбцах `track`, `artist` и `genre` на строку `'unknown'`. Для этого создайте список `columns_to_replace`, переберите его элементы циклом `for` и для каждого столбца выполните замену пропущенных значений:"
   ]
  },
  {
   "cell_type": "code",
   "execution_count": 9,
   "metadata": {
    "id": "KplB5qWs_Zct",
    "scrolled": false
   },
   "outputs": [],
   "source": [
    "columns_to_replace = ['track', 'artist', 'genre'] # объявите список columns_to_replace с названиями столбцов track, artist, genre\n",
    "for column in columns_to_replace:\n",
    "    df[column] = df[column].fillna('unknown') # перебор названий столбцов в цикле и замена пропущенных значений на 'unknown'"
   ]
  },
  {
   "cell_type": "markdown",
   "metadata": {
    "id": "Ilsm-MZo_Zct"
   },
   "source": [
    "Убедитесь, что в таблице не осталось пропусков. Для этого ещё раз посчитайте пропущенные значения."
   ]
  },
  {
   "cell_type": "code",
   "execution_count": 10,
   "metadata": {
    "id": "Tq4nYRX4_Zct",
    "scrolled": true
   },
   "outputs": [
    {
     "data": {
      "text/plain": [
       "user_id    0\n",
       "track      0\n",
       "artist     0\n",
       "genre      0\n",
       "city       0\n",
       "time       0\n",
       "day        0\n",
       "dtype: int64"
      ]
     },
     "metadata": {},
     "output_type": "display_data"
    }
   ],
   "source": [
    "display(df.isna().sum())# подсчёт пропусков"
   ]
  },
  {
   "cell_type": "markdown",
   "metadata": {
    "id": "BWKRtBJ3_Zct"
   },
   "source": [
    "### Дубликаты\n",
    "Посчитайте явные дубликаты в таблице одной командой:"
   ]
  },
  {
   "cell_type": "code",
   "execution_count": 11,
   "metadata": {
    "id": "36eES_S0_Zct"
   },
   "outputs": [
    {
     "data": {
      "text/plain": [
       "3826"
      ]
     },
     "metadata": {},
     "output_type": "display_data"
    }
   ],
   "source": [
    "display(df.duplicated().sum())# подсчёт явных дубликатов"
   ]
  },
  {
   "cell_type": "markdown",
   "metadata": {
    "id": "Ot25h6XR_Zct"
   },
   "source": [
    "Вызовите специальный метод `pandas`, чтобы удалить явные дубликаты:"
   ]
  },
  {
   "cell_type": "code",
   "execution_count": 12,
   "metadata": {
    "id": "exFHq6tt_Zct"
   },
   "outputs": [],
   "source": [
    "df = df.drop_duplicates().reset_index(drop=True)# удаление явных дубликатов (с удалением старых индексов и формированием новых)"
   ]
  },
  {
   "cell_type": "markdown",
   "metadata": {
    "id": "Im2YwBEG_Zct"
   },
   "source": [
    "Ещё раз посчитайте явные дубликаты в таблице — убедитесь, что полностью от них избавились:"
   ]
  },
  {
   "cell_type": "code",
   "execution_count": 13,
   "metadata": {
    "id": "-8PuNWQ0_Zct"
   },
   "outputs": [
    {
     "data": {
      "text/plain": [
       "0"
      ]
     },
     "metadata": {},
     "output_type": "display_data"
    }
   ],
   "source": [
    "display(df.duplicated().sum())# проверка на отсутствие дубликатов"
   ]
  },
  {
   "cell_type": "markdown",
   "metadata": {
    "id": "QlFBsxAr_Zct"
   },
   "source": [
    "Теперь избавьтесь от неявных дубликатов в колонке `genre`. Например, название одного и того же жанра может быть записано немного по-разному. Такие ошибки тоже повлияют на результат исследования."
   ]
  },
  {
   "cell_type": "markdown",
   "metadata": {
    "id": "eSjWwsOh_Zct"
   },
   "source": [
    "Выведите на экран список уникальных названий жанров, отсортированный в алфавитном порядке. Для этого:\n",
    "* извлеките нужный столбец датафрейма, \n",
    "* примените к нему метод сортировки,\n",
    "* для отсортированного столбца вызовите метод, который вернёт уникальные значения из столбца."
   ]
  },
  {
   "cell_type": "code",
   "execution_count": 14,
   "metadata": {
    "id": "JIUcqzZN_Zct",
    "scrolled": false
   },
   "outputs": [
    {
     "data": {
      "text/plain": [
       "array(['rock', 'pop', 'folk', 'dance', 'rusrap', 'ruspop', 'world',\n",
       "       'electronic', 'unknown', 'alternative', 'children', 'rnb', 'hip',\n",
       "       'jazz', 'postrock', 'latin', 'classical', 'metal', 'reggae',\n",
       "       'tatar', 'blues', 'instrumental', 'rusrock', 'dnb', 'türk', 'post',\n",
       "       'country', 'psychedelic', 'conjazz', 'indie', 'posthardcore',\n",
       "       'local', 'avantgarde', 'punk', 'videogame', 'techno', 'house',\n",
       "       'christmas', 'melodic', 'caucasian', 'reggaeton', 'soundtrack',\n",
       "       'singer', 'ska', 'shanson', 'ambient', 'film', 'western', 'rap',\n",
       "       'beats', \"hard'n'heavy\", 'progmetal', 'minimal', 'contemporary',\n",
       "       'new', 'soul', 'holiday', 'german', 'tropical', 'fairytail',\n",
       "       'spiritual', 'urban', 'gospel', 'nujazz', 'folkmetal', 'trance',\n",
       "       'miscellaneous', 'anime', 'hardcore', 'progressive', 'chanson',\n",
       "       'numetal', 'vocal', 'estrada', 'russian', 'classicmetal',\n",
       "       'dubstep', 'club', 'deep', 'southern', 'black', 'folkrock',\n",
       "       'fitness', 'french', 'disco', 'religious', 'hiphop', 'drum',\n",
       "       'extrememetal', 'türkçe', 'experimental', 'easy', 'metalcore',\n",
       "       'modern', 'argentinetango', 'old', 'breaks', 'eurofolk',\n",
       "       'stonerrock', 'industrial', 'funk', 'jpop', 'middle', 'variété',\n",
       "       'other', 'adult', 'christian', 'gothic', 'international', 'muslim',\n",
       "       'relax', 'schlager', 'caribbean', 'ukrrock', 'nu', 'breakbeat',\n",
       "       'comedy', 'chill', 'newage', 'specialty', 'uzbek', 'k-pop',\n",
       "       'balkan', 'chinese', 'meditative', 'dub', 'power', 'death',\n",
       "       'grime', 'arabesk', 'romance', 'flamenco', 'leftfield', 'european',\n",
       "       'tech', 'newwave', 'dancehall', 'mpb', 'piano', 'top', 'bigroom',\n",
       "       'opera', 'celtic', 'tradjazz', 'acoustic', 'epicmetal', 'hip-hop',\n",
       "       'historisch', 'downbeat', 'downtempo', 'africa', 'audiobook',\n",
       "       'jewish', 'sängerportrait', 'deutschrock', 'eastern', 'action',\n",
       "       'future', 'electropop', 'folklore', 'bollywood', 'marschmusik',\n",
       "       'rnr', 'karaoke', 'indian', 'rancheras', 'электроника',\n",
       "       'afrikaans', 'tango', 'rhythm', 'sound', 'deutschspr', 'trip',\n",
       "       'lovers', 'choral', 'dancepop', 'podcasts', 'retro', 'smooth',\n",
       "       'mexican', 'brazilian', 'ïîï', 'mood', 'surf', 'author', 'gangsta',\n",
       "       'triphop', 'inspirational', 'idm', 'ethnic', 'bluegrass',\n",
       "       'broadway', 'animated', 'americana', 'karadeniz', 'rockabilly',\n",
       "       'colombian', 'self', 'hop', 'synthrock', 'sertanejo', 'japanese',\n",
       "       'canzone', 'swing', 'lounge', 'sport', 'korean', 'ragga',\n",
       "       'traditional', 'gitarre', 'frankreich', 'alternativepunk', 'emo',\n",
       "       'laiko', 'cantopop', 'glitch', 'documentary', 'rockalternative',\n",
       "       'thrash', 'hymn', 'oceania', 'rockother', 'popeurodance', 'dark',\n",
       "       'vi', 'grunge', 'hardstyle', 'samba', 'garage', 'soft', 'art',\n",
       "       'folktronica', 'entehno', 'mediterranean', 'chamber', 'cuban',\n",
       "       'taraftar', 'rockindie', 'gypsy', 'hardtechno', 'shoegazing',\n",
       "       'skarock', 'bossa', 'salsa', 'latino', 'worldbeat', 'malaysian',\n",
       "       'baile', 'ghazal', 'loungeelectronic', 'arabic', 'popelectronic',\n",
       "       'acid', 'kayokyoku', 'neoklassik', 'tribal', 'tanzorchester',\n",
       "       'native', 'independent', 'cantautori', 'handsup', 'poprussian',\n",
       "       'punjabi', 'synthpop', 'rave', 'französisch', 'quebecois',\n",
       "       'speech', 'soulful', 'teen', 'jam', 'ram', 'horror', 'scenic',\n",
       "       'orchestral', 'neue', 'roots', 'slow', 'jungle', 'indipop', 'axé',\n",
       "       'fado', 'showtunes', 'arena', 'irish', 'mandopop', 'forró',\n",
       "       'popdance', 'dirty', 'regional'], dtype=object)"
      ]
     },
     "metadata": {},
     "output_type": "display_data"
    }
   ],
   "source": [
    "display(df['genre'].unique())# Просмотр уникальных названий жанров"
   ]
  },
  {
   "cell_type": "markdown",
   "metadata": {
    "id": "qej-Qmuo_Zct"
   },
   "source": [
    "Просмотрите список и найдите неявные дубликаты названия `hiphop`. Это могут быть названия с ошибками или альтернативные названия того же жанра.\n",
    "\n",
    "Вы увидите следующие неявные дубликаты:\n",
    "* *hip*,\n",
    "* *hop*,\n",
    "* *hip-hop*.\n",
    "\n",
    "Чтобы очистить от них таблицу, напишите функцию `replace_wrong_genres()` с двумя параметрами: \n",
    "* `wrong_genres` — список дубликатов,\n",
    "* `correct_genre` — строка с правильным значением.\n",
    "\n",
    "Функция должна исправить колонку `genre` в таблице `df`: заменить каждое значение из списка `wrong_genres` на значение из `correct_genre`."
   ]
  },
  {
   "cell_type": "code",
   "execution_count": 15,
   "metadata": {
    "id": "ErNDkmns_Zct"
   },
   "outputs": [],
   "source": [
    "def replace_wrong_genres(wrong_genres, correct_genre):\n",
    "    for wrong_genre in wrong_genres:\n",
    "        df['genre'] = df['genre'].replace(wrong_genres, correct_genre)\n",
    "        \n",
    "    # Функция для замены неявных дубликатов"
   ]
  },
  {
   "cell_type": "markdown",
   "metadata": {
    "id": "aDoBJxbA_Zct"
   },
   "source": [
    "Вызовите `replace_wrong_genres()` и передайте ей такие аргументы, чтобы она устранила неявные дубликаты: вместо `hip`, `hop` и `hip-hop` в таблице должно быть значение `hiphop`:"
   ]
  },
  {
   "cell_type": "code",
   "execution_count": 16,
   "metadata": {
    "id": "YN5i2hpmSo09"
   },
   "outputs": [],
   "source": [
    "duplicates = ['hip', 'hop', 'hip-hop'] # список неправильных имён\n",
    "name = 'hiphop' # правильное имя\n",
    "replace_wrong_genres(duplicates, name)# Устранение неявных дубликатов"
   ]
  },
  {
   "cell_type": "markdown",
   "metadata": {
    "id": "zQKF16_RG15m"
   },
   "source": [
    "Проверьте, что заменили неправильные названия:\n",
    "\n",
    "*   hip\n",
    "*   hop\n",
    "*   hip-hop\n",
    "\n",
    "Выведите отсортированный список уникальных значений столбца `genre`:"
   ]
  },
  {
   "cell_type": "code",
   "execution_count": 17,
   "metadata": {
    "id": "wvixALnFG15m"
   },
   "outputs": [
    {
     "data": {
      "text/plain": [
       "array(['rock', 'pop', 'folk', 'dance', 'rusrap', 'ruspop', 'world',\n",
       "       'electronic', 'unknown', 'alternative', 'children', 'rnb',\n",
       "       'hiphop', 'jazz', 'postrock', 'latin', 'classical', 'metal',\n",
       "       'reggae', 'tatar', 'blues', 'instrumental', 'rusrock', 'dnb',\n",
       "       'türk', 'post', 'country', 'psychedelic', 'conjazz', 'indie',\n",
       "       'posthardcore', 'local', 'avantgarde', 'punk', 'videogame',\n",
       "       'techno', 'house', 'christmas', 'melodic', 'caucasian',\n",
       "       'reggaeton', 'soundtrack', 'singer', 'ska', 'shanson', 'ambient',\n",
       "       'film', 'western', 'rap', 'beats', \"hard'n'heavy\", 'progmetal',\n",
       "       'minimal', 'contemporary', 'new', 'soul', 'holiday', 'german',\n",
       "       'tropical', 'fairytail', 'spiritual', 'urban', 'gospel', 'nujazz',\n",
       "       'folkmetal', 'trance', 'miscellaneous', 'anime', 'hardcore',\n",
       "       'progressive', 'chanson', 'numetal', 'vocal', 'estrada', 'russian',\n",
       "       'classicmetal', 'dubstep', 'club', 'deep', 'southern', 'black',\n",
       "       'folkrock', 'fitness', 'french', 'disco', 'religious', 'drum',\n",
       "       'extrememetal', 'türkçe', 'experimental', 'easy', 'metalcore',\n",
       "       'modern', 'argentinetango', 'old', 'breaks', 'eurofolk',\n",
       "       'stonerrock', 'industrial', 'funk', 'jpop', 'middle', 'variété',\n",
       "       'other', 'adult', 'christian', 'gothic', 'international', 'muslim',\n",
       "       'relax', 'schlager', 'caribbean', 'ukrrock', 'nu', 'breakbeat',\n",
       "       'comedy', 'chill', 'newage', 'specialty', 'uzbek', 'k-pop',\n",
       "       'balkan', 'chinese', 'meditative', 'dub', 'power', 'death',\n",
       "       'grime', 'arabesk', 'romance', 'flamenco', 'leftfield', 'european',\n",
       "       'tech', 'newwave', 'dancehall', 'mpb', 'piano', 'top', 'bigroom',\n",
       "       'opera', 'celtic', 'tradjazz', 'acoustic', 'epicmetal',\n",
       "       'historisch', 'downbeat', 'downtempo', 'africa', 'audiobook',\n",
       "       'jewish', 'sängerportrait', 'deutschrock', 'eastern', 'action',\n",
       "       'future', 'electropop', 'folklore', 'bollywood', 'marschmusik',\n",
       "       'rnr', 'karaoke', 'indian', 'rancheras', 'электроника',\n",
       "       'afrikaans', 'tango', 'rhythm', 'sound', 'deutschspr', 'trip',\n",
       "       'lovers', 'choral', 'dancepop', 'podcasts', 'retro', 'smooth',\n",
       "       'mexican', 'brazilian', 'ïîï', 'mood', 'surf', 'author', 'gangsta',\n",
       "       'triphop', 'inspirational', 'idm', 'ethnic', 'bluegrass',\n",
       "       'broadway', 'animated', 'americana', 'karadeniz', 'rockabilly',\n",
       "       'colombian', 'self', 'synthrock', 'sertanejo', 'japanese',\n",
       "       'canzone', 'swing', 'lounge', 'sport', 'korean', 'ragga',\n",
       "       'traditional', 'gitarre', 'frankreich', 'alternativepunk', 'emo',\n",
       "       'laiko', 'cantopop', 'glitch', 'documentary', 'rockalternative',\n",
       "       'thrash', 'hymn', 'oceania', 'rockother', 'popeurodance', 'dark',\n",
       "       'vi', 'grunge', 'hardstyle', 'samba', 'garage', 'soft', 'art',\n",
       "       'folktronica', 'entehno', 'mediterranean', 'chamber', 'cuban',\n",
       "       'taraftar', 'rockindie', 'gypsy', 'hardtechno', 'shoegazing',\n",
       "       'skarock', 'bossa', 'salsa', 'latino', 'worldbeat', 'malaysian',\n",
       "       'baile', 'ghazal', 'loungeelectronic', 'arabic', 'popelectronic',\n",
       "       'acid', 'kayokyoku', 'neoklassik', 'tribal', 'tanzorchester',\n",
       "       'native', 'independent', 'cantautori', 'handsup', 'poprussian',\n",
       "       'punjabi', 'synthpop', 'rave', 'französisch', 'quebecois',\n",
       "       'speech', 'soulful', 'teen', 'jam', 'ram', 'horror', 'scenic',\n",
       "       'orchestral', 'neue', 'roots', 'slow', 'jungle', 'indipop', 'axé',\n",
       "       'fado', 'showtunes', 'arena', 'irish', 'mandopop', 'forró',\n",
       "       'popdance', 'dirty', 'regional'], dtype=object)"
      ]
     },
     "metadata": {},
     "output_type": "display_data"
    }
   ],
   "source": [
    "display(df['genre'].unique())# Проверка на неявные дубликаты"
   ]
  },
  {
   "cell_type": "markdown",
   "metadata": {
    "id": "jz6a9-7HQUDd"
   },
   "source": [
    "**Выводы**\n",
    "\n",
    "Предобработка обнаружила три проблемы в данных:\n",
    "\n",
    "- нарушения в стиле заголовков,\n",
    "- пропущенные значения,\n",
    "- дубликаты — явные и неявные.\n",
    "\n",
    "Вы исправили заголовки, чтобы упростить работу с таблицей. Без дубликатов исследование станет более точным.\n",
    "\n",
    "Пропущенные значения вы заменили на `'unknown'`. Ещё предстоит увидеть, не повредят ли исследованию пропуски в колонке `genre`.\n",
    "\n",
    "Теперь можно перейти к проверке гипотез. "
   ]
  },
  {
   "cell_type": "markdown",
   "metadata": {
    "id": "WttZHXH0SqKk"
   },
   "source": [
    "## Проверка гипотез"
   ]
  },
  {
   "cell_type": "markdown",
   "metadata": {
    "id": "Im936VVi_Zcu"
   },
   "source": [
    "### Сравнение поведения пользователей двух столиц"
   ]
  },
  {
   "cell_type": "markdown",
   "metadata": {
    "id": "nwt_MuaL_Zcu"
   },
   "source": [
    "Первая гипотеза утверждает, что пользователи по-разному слушают музыку в Москве и Санкт-Петербурге. Проверьте это предположение по данным о трёх днях недели — понедельнике, среде и пятнице. Для этого:\n",
    "\n",
    "* Разделите пользователей Москвы и Санкт-Петербурга\n",
    "* Сравните, сколько треков послушала каждая группа пользователей в понедельник, среду и пятницу.\n"
   ]
  },
  {
   "cell_type": "markdown",
   "metadata": {
    "id": "8Dw_YMmT_Zcu"
   },
   "source": [
    "Для тренировки сначала выполните каждый из расчётов по отдельности. \n",
    "\n",
    "Оцените активность пользователей в каждом городе. Сгруппируйте данные по городу и посчитайте прослушивания в каждой группе.\n",
    "\n"
   ]
  },
  {
   "cell_type": "code",
   "execution_count": 18,
   "metadata": {
    "id": "0_Qs96oh_Zcu",
    "scrolled": true
   },
   "outputs": [
    {
     "data": {
      "text/html": [
       "<div>\n",
       "<style scoped>\n",
       "    .dataframe tbody tr th:only-of-type {\n",
       "        vertical-align: middle;\n",
       "    }\n",
       "\n",
       "    .dataframe tbody tr th {\n",
       "        vertical-align: top;\n",
       "    }\n",
       "\n",
       "    .dataframe thead th {\n",
       "        text-align: right;\n",
       "    }\n",
       "</style>\n",
       "<table border=\"1\" class=\"dataframe\">\n",
       "  <thead>\n",
       "    <tr style=\"text-align: right;\">\n",
       "      <th></th>\n",
       "      <th>user_id</th>\n",
       "      <th>track</th>\n",
       "      <th>artist</th>\n",
       "      <th>genre</th>\n",
       "      <th>time</th>\n",
       "      <th>day</th>\n",
       "    </tr>\n",
       "    <tr>\n",
       "      <th>city</th>\n",
       "      <th></th>\n",
       "      <th></th>\n",
       "      <th></th>\n",
       "      <th></th>\n",
       "      <th></th>\n",
       "      <th></th>\n",
       "    </tr>\n",
       "  </thead>\n",
       "  <tbody>\n",
       "    <tr>\n",
       "      <td>Moscow</td>\n",
       "      <td>42741</td>\n",
       "      <td>42741</td>\n",
       "      <td>42741</td>\n",
       "      <td>42741</td>\n",
       "      <td>42741</td>\n",
       "      <td>42741</td>\n",
       "    </tr>\n",
       "    <tr>\n",
       "      <td>Saint-Petersburg</td>\n",
       "      <td>18512</td>\n",
       "      <td>18512</td>\n",
       "      <td>18512</td>\n",
       "      <td>18512</td>\n",
       "      <td>18512</td>\n",
       "      <td>18512</td>\n",
       "    </tr>\n",
       "  </tbody>\n",
       "</table>\n",
       "</div>"
      ],
      "text/plain": [
       "                  user_id  track  artist  genre   time    day\n",
       "city                                                         \n",
       "Moscow              42741  42741   42741  42741  42741  42741\n",
       "Saint-Petersburg    18512  18512   18512  18512  18512  18512"
      ]
     },
     "metadata": {},
     "output_type": "display_data"
    }
   ],
   "source": [
    "display(df.groupby('city').count())"
   ]
  },
  {
   "cell_type": "markdown",
   "metadata": {
    "id": "dzli3w8o_Zcu"
   },
   "source": [
    "В Москве прослушиваний больше, чем в Петербурге. Из этого не следует, что московские пользователи чаще слушают музыку. Просто самих пользователей в Москве больше.\n",
    "\n",
    "Теперь сгруппируйте данные по дню недели и подсчитайте прослушивания в понедельник, среду и пятницу. Учтите, что в данных есть информация только о прослушиваниях только за эти дни.\n"
   ]
  },
  {
   "cell_type": "code",
   "execution_count": 19,
   "metadata": {
    "id": "uZMKjiJz_Zcu"
   },
   "outputs": [
    {
     "data": {
      "text/html": [
       "<div>\n",
       "<style scoped>\n",
       "    .dataframe tbody tr th:only-of-type {\n",
       "        vertical-align: middle;\n",
       "    }\n",
       "\n",
       "    .dataframe tbody tr th {\n",
       "        vertical-align: top;\n",
       "    }\n",
       "\n",
       "    .dataframe thead th {\n",
       "        text-align: right;\n",
       "    }\n",
       "</style>\n",
       "<table border=\"1\" class=\"dataframe\">\n",
       "  <thead>\n",
       "    <tr style=\"text-align: right;\">\n",
       "      <th></th>\n",
       "      <th>user_id</th>\n",
       "      <th>track</th>\n",
       "      <th>artist</th>\n",
       "      <th>genre</th>\n",
       "      <th>city</th>\n",
       "      <th>time</th>\n",
       "    </tr>\n",
       "    <tr>\n",
       "      <th>day</th>\n",
       "      <th></th>\n",
       "      <th></th>\n",
       "      <th></th>\n",
       "      <th></th>\n",
       "      <th></th>\n",
       "      <th></th>\n",
       "    </tr>\n",
       "  </thead>\n",
       "  <tbody>\n",
       "    <tr>\n",
       "      <td>Friday</td>\n",
       "      <td>21840</td>\n",
       "      <td>21840</td>\n",
       "      <td>21840</td>\n",
       "      <td>21840</td>\n",
       "      <td>21840</td>\n",
       "      <td>21840</td>\n",
       "    </tr>\n",
       "    <tr>\n",
       "      <td>Monday</td>\n",
       "      <td>21354</td>\n",
       "      <td>21354</td>\n",
       "      <td>21354</td>\n",
       "      <td>21354</td>\n",
       "      <td>21354</td>\n",
       "      <td>21354</td>\n",
       "    </tr>\n",
       "    <tr>\n",
       "      <td>Wednesday</td>\n",
       "      <td>18059</td>\n",
       "      <td>18059</td>\n",
       "      <td>18059</td>\n",
       "      <td>18059</td>\n",
       "      <td>18059</td>\n",
       "      <td>18059</td>\n",
       "    </tr>\n",
       "  </tbody>\n",
       "</table>\n",
       "</div>"
      ],
      "text/plain": [
       "           user_id  track  artist  genre   city   time\n",
       "day                                                   \n",
       "Friday       21840  21840   21840  21840  21840  21840\n",
       "Monday       21354  21354   21354  21354  21354  21354\n",
       "Wednesday    18059  18059   18059  18059  18059  18059"
      ]
     },
     "metadata": {},
     "output_type": "display_data"
    }
   ],
   "source": [
    "display(df.groupby('day').count())# Подсчёт прослушиваний в каждый из трёх дней"
   ]
  },
  {
   "cell_type": "markdown",
   "metadata": {
    "id": "cC2tNrlL_Zcu"
   },
   "source": [
    "В среднем пользователи из двух городов менее активны по средам. Но картина может измениться, если рассмотреть каждый город в отдельности."
   ]
  },
  {
   "cell_type": "markdown",
   "metadata": {
    "id": "POzs8bGa_Zcu"
   },
   "source": [
    "Вы видели, как работает группировка по городу и по дням недели. Теперь напишите функцию, которая объединит два эти расчёта.\n",
    "\n",
    "Создайте функцию `number_tracks()`, которая посчитает прослушивания для заданного дня и города. Ей понадобятся два параметра:\n",
    "* день недели,\n",
    "* название города.\n",
    "\n",
    "В функции сохраните в переменную строки исходной таблицы, у которых значение:\n",
    "  * в колонке `day` равно параметру `day`,\n",
    "  * в колонке `city` равно параметру `city`.\n",
    "\n",
    "Для этого примените последовательную фильтрацию с логической индексацией.\n",
    "\n",
    "Затем посчитайте значения в столбце `user_id` получившейся таблицы. Результат сохраните в новую переменную. Верните эту переменную из функции."
   ]
  },
  {
   "cell_type": "code",
   "execution_count": 1,
   "metadata": {
    "id": "Nz3GdQB1_Zcu"
   },
   "outputs": [],
   "source": [
    "def number_tracks(day, city):\n",
    "    track_list = df[df['day'] == day]\n",
    "    track_list = track_list[track_list['city'] == city]\n",
    "    track_list_count = track_list['user_id'].count()\n",
    "    return track_list_count\n"
   ]
  },
  {
   "cell_type": "markdown",
   "metadata": {
    "id": "ytf7xFrFJQ2r"
   },
   "source": [
    "Вызовите `number_tracks()` шесть раз, меняя значение параметров — так, чтобы получить данные для каждого города в каждый из трёх дней."
   ]
  },
  {
   "cell_type": "code",
   "execution_count": 21,
   "metadata": {
    "id": "rJcRATNQ_Zcu"
   },
   "outputs": [
    {
     "data": {
      "text/plain": [
       "15740"
      ]
     },
     "execution_count": 21,
     "metadata": {},
     "output_type": "execute_result"
    }
   ],
   "source": [
    "number_tracks('Monday','Moscow')# количество прослушиваний в Москве по понедельникам"
   ]
  },
  {
   "cell_type": "code",
   "execution_count": 22,
   "metadata": {
    "id": "hq_ncZ5T_Zcu"
   },
   "outputs": [
    {
     "data": {
      "text/plain": [
       "5614"
      ]
     },
     "execution_count": 22,
     "metadata": {},
     "output_type": "execute_result"
    }
   ],
   "source": [
    "number_tracks('Monday','Saint-Petersburg')# количество прослушиваний в Санкт-Петербурге по понедельникам"
   ]
  },
  {
   "cell_type": "code",
   "execution_count": 23,
   "metadata": {
    "id": "_NTy2VPU_Zcu"
   },
   "outputs": [
    {
     "data": {
      "text/plain": [
       "11056"
      ]
     },
     "execution_count": 23,
     "metadata": {},
     "output_type": "execute_result"
    }
   ],
   "source": [
    "number_tracks('Wednesday','Moscow')# количество прослушиваний в Москве по средам"
   ]
  },
  {
   "cell_type": "code",
   "execution_count": 24,
   "metadata": {
    "id": "j2y3TAwo_Zcu"
   },
   "outputs": [
    {
     "data": {
      "text/plain": [
       "7003"
      ]
     },
     "execution_count": 24,
     "metadata": {},
     "output_type": "execute_result"
    }
   ],
   "source": [
    "number_tracks('Wednesday','Saint-Petersburg')# количество прослушиваний в Санкт-Петербурге по средам"
   ]
  },
  {
   "cell_type": "code",
   "execution_count": 25,
   "metadata": {
    "id": "vYDw5u_K_Zcu"
   },
   "outputs": [
    {
     "data": {
      "text/plain": [
       "15945"
      ]
     },
     "execution_count": 25,
     "metadata": {},
     "output_type": "execute_result"
    }
   ],
   "source": [
    "number_tracks('Friday','Moscow')# количество прослушиваний в Москве по пятницам"
   ]
  },
  {
   "cell_type": "code",
   "execution_count": 26,
   "metadata": {
    "id": "8_yzFtW3_Zcu"
   },
   "outputs": [
    {
     "data": {
      "text/plain": [
       "5895"
      ]
     },
     "execution_count": 26,
     "metadata": {},
     "output_type": "execute_result"
    }
   ],
   "source": [
    "number_tracks('Friday','Saint-Petersburg')# количество прослушиваний в Санкт-Петербурге по пятницам"
   ]
  },
  {
   "cell_type": "markdown",
   "metadata": {
    "id": "7QXffbO-_Zcu"
   },
   "source": [
    "Создайте c помощью конструктора `pd.DataFrame` таблицу, где\n",
    "* названия колонок — `['city', 'monday', 'wednesday', 'friday']`;\n",
    "* данные — результаты, которые вы получили с помощью `number_tracks`."
   ]
  },
  {
   "cell_type": "code",
   "execution_count": 27,
   "metadata": {
    "id": "APAcLpOr_Zcu"
   },
   "outputs": [
    {
     "name": "stdout",
     "output_type": "stream",
     "text": [
      "               city monday wednesday friday\n",
      "0            Moscow  15740     11056  15945\n",
      "1  Saint_Petersburg   5614      7003   5895\n"
     ]
    }
   ],
   "source": [
    "music_frame = [\n",
    "    ['Moscow','15740','11056','15945'],\n",
    "    ['Saint_Petersburg','5614','7003','5895']\n",
    "]\n",
    "column = ['city', 'monday', 'wednesday', 'friday']\n",
    "\n",
    "playlist = pd.DataFrame(data=music_frame, columns= column)\n",
    "\n",
    "print(playlist) # Таблица с результатами"
   ]
  },
  {
   "cell_type": "markdown",
   "metadata": {
    "id": "-EgPIHYu_Zcu"
   },
   "source": [
    "**Выводы**\n",
    "\n",
    "Данные показывают разницу поведения пользователей:\n",
    "\n",
    "- В Москве пик прослушиваний приходится на понедельник и пятницу, а в среду заметен спад.\n",
    "- В Петербурге, наоборот, больше слушают музыку по средам. Активность в понедельник и пятницу здесь почти в равной мере уступает среде.\n",
    "\n",
    "Значит, данные говорят в пользу первой гипотезы."
   ]
  },
  {
   "cell_type": "markdown",
   "metadata": {
    "id": "atZAxtq4_Zcu"
   },
   "source": [
    "### Музыка в начале и в конце недели"
   ]
  },
  {
   "cell_type": "markdown",
   "metadata": {
    "id": "eXrQqXFH_Zcu"
   },
   "source": [
    "Согласно второй гипотезе, утром в понедельник в Москве преобладают одни жанры, а в Петербурге — другие. Так же и вечером пятницы преобладают разные жанры — в зависимости от города."
   ]
  },
  {
   "cell_type": "markdown",
   "metadata": {
    "id": "S8UcW6Hw_Zcu"
   },
   "source": [
    "Сохраните таблицы с данными в две переменные:\n",
    "* по Москве — в `moscow_general`;\n",
    "* по Санкт-Петербургу — в `spb_general`."
   ]
  },
  {
   "cell_type": "code",
   "execution_count": 28,
   "metadata": {
    "id": "qeaFfM_P_Zcu"
   },
   "outputs": [
    {
     "data": {
      "text/html": [
       "<div>\n",
       "<style scoped>\n",
       "    .dataframe tbody tr th:only-of-type {\n",
       "        vertical-align: middle;\n",
       "    }\n",
       "\n",
       "    .dataframe tbody tr th {\n",
       "        vertical-align: top;\n",
       "    }\n",
       "\n",
       "    .dataframe thead th {\n",
       "        text-align: right;\n",
       "    }\n",
       "</style>\n",
       "<table border=\"1\" class=\"dataframe\">\n",
       "  <thead>\n",
       "    <tr style=\"text-align: right;\">\n",
       "      <th></th>\n",
       "      <th>user_id</th>\n",
       "      <th>track</th>\n",
       "      <th>artist</th>\n",
       "      <th>genre</th>\n",
       "      <th>city</th>\n",
       "      <th>time</th>\n",
       "      <th>day</th>\n",
       "    </tr>\n",
       "  </thead>\n",
       "  <tbody>\n",
       "    <tr>\n",
       "      <td>1</td>\n",
       "      <td>55204538</td>\n",
       "      <td>Delayed Because of Accident</td>\n",
       "      <td>Andreas Rönnberg</td>\n",
       "      <td>rock</td>\n",
       "      <td>Moscow</td>\n",
       "      <td>14:07:09</td>\n",
       "      <td>Friday</td>\n",
       "    </tr>\n",
       "    <tr>\n",
       "      <td>4</td>\n",
       "      <td>E2DC1FAE</td>\n",
       "      <td>Soul People</td>\n",
       "      <td>Space Echo</td>\n",
       "      <td>dance</td>\n",
       "      <td>Moscow</td>\n",
       "      <td>08:34:34</td>\n",
       "      <td>Monday</td>\n",
       "    </tr>\n",
       "    <tr>\n",
       "      <td>6</td>\n",
       "      <td>4CB90AA5</td>\n",
       "      <td>True</td>\n",
       "      <td>Roman Messer</td>\n",
       "      <td>dance</td>\n",
       "      <td>Moscow</td>\n",
       "      <td>13:00:07</td>\n",
       "      <td>Wednesday</td>\n",
       "    </tr>\n",
       "    <tr>\n",
       "      <td>7</td>\n",
       "      <td>F03E1C1F</td>\n",
       "      <td>Feeling This Way</td>\n",
       "      <td>Polina Griffith</td>\n",
       "      <td>dance</td>\n",
       "      <td>Moscow</td>\n",
       "      <td>20:47:49</td>\n",
       "      <td>Wednesday</td>\n",
       "    </tr>\n",
       "    <tr>\n",
       "      <td>8</td>\n",
       "      <td>8FA1D3BE</td>\n",
       "      <td>И вновь продолжается бой</td>\n",
       "      <td>unknown</td>\n",
       "      <td>ruspop</td>\n",
       "      <td>Moscow</td>\n",
       "      <td>09:17:40</td>\n",
       "      <td>Friday</td>\n",
       "    </tr>\n",
       "    <tr>\n",
       "      <td>...</td>\n",
       "      <td>...</td>\n",
       "      <td>...</td>\n",
       "      <td>...</td>\n",
       "      <td>...</td>\n",
       "      <td>...</td>\n",
       "      <td>...</td>\n",
       "      <td>...</td>\n",
       "    </tr>\n",
       "    <tr>\n",
       "      <td>61247</td>\n",
       "      <td>83A474E7</td>\n",
       "      <td>I Worship Only What You Bleed</td>\n",
       "      <td>The Black Dahlia Murder</td>\n",
       "      <td>extrememetal</td>\n",
       "      <td>Moscow</td>\n",
       "      <td>21:07:12</td>\n",
       "      <td>Monday</td>\n",
       "    </tr>\n",
       "    <tr>\n",
       "      <td>61248</td>\n",
       "      <td>729CBB09</td>\n",
       "      <td>My Name</td>\n",
       "      <td>McLean</td>\n",
       "      <td>rnb</td>\n",
       "      <td>Moscow</td>\n",
       "      <td>13:32:28</td>\n",
       "      <td>Wednesday</td>\n",
       "    </tr>\n",
       "    <tr>\n",
       "      <td>61250</td>\n",
       "      <td>C5E3A0D5</td>\n",
       "      <td>Jalopiina</td>\n",
       "      <td>unknown</td>\n",
       "      <td>industrial</td>\n",
       "      <td>Moscow</td>\n",
       "      <td>20:09:26</td>\n",
       "      <td>Friday</td>\n",
       "    </tr>\n",
       "    <tr>\n",
       "      <td>61251</td>\n",
       "      <td>321D0506</td>\n",
       "      <td>Freight Train</td>\n",
       "      <td>Chas McDevitt</td>\n",
       "      <td>rock</td>\n",
       "      <td>Moscow</td>\n",
       "      <td>21:43:59</td>\n",
       "      <td>Friday</td>\n",
       "    </tr>\n",
       "    <tr>\n",
       "      <td>61252</td>\n",
       "      <td>3A64EF84</td>\n",
       "      <td>Tell Me Sweet Little Lies</td>\n",
       "      <td>Monica Lopez</td>\n",
       "      <td>country</td>\n",
       "      <td>Moscow</td>\n",
       "      <td>21:59:46</td>\n",
       "      <td>Friday</td>\n",
       "    </tr>\n",
       "  </tbody>\n",
       "</table>\n",
       "<p>42741 rows × 7 columns</p>\n",
       "</div>"
      ],
      "text/plain": [
       "        user_id                          track                   artist  \\\n",
       "1      55204538    Delayed Because of Accident         Andreas Rönnberg   \n",
       "4      E2DC1FAE                    Soul People               Space Echo   \n",
       "6      4CB90AA5                           True             Roman Messer   \n",
       "7      F03E1C1F               Feeling This Way          Polina Griffith   \n",
       "8      8FA1D3BE       И вновь продолжается бой                  unknown   \n",
       "...         ...                            ...                      ...   \n",
       "61247  83A474E7  I Worship Only What You Bleed  The Black Dahlia Murder   \n",
       "61248  729CBB09                        My Name                   McLean   \n",
       "61250  C5E3A0D5                      Jalopiina                  unknown   \n",
       "61251  321D0506                  Freight Train            Chas McDevitt   \n",
       "61252  3A64EF84      Tell Me Sweet Little Lies             Monica Lopez   \n",
       "\n",
       "              genre    city      time        day  \n",
       "1              rock  Moscow  14:07:09     Friday  \n",
       "4             dance  Moscow  08:34:34     Monday  \n",
       "6             dance  Moscow  13:00:07  Wednesday  \n",
       "7             dance  Moscow  20:47:49  Wednesday  \n",
       "8            ruspop  Moscow  09:17:40     Friday  \n",
       "...             ...     ...       ...        ...  \n",
       "61247  extrememetal  Moscow  21:07:12     Monday  \n",
       "61248           rnb  Moscow  13:32:28  Wednesday  \n",
       "61250    industrial  Moscow  20:09:26     Friday  \n",
       "61251          rock  Moscow  21:43:59     Friday  \n",
       "61252       country  Moscow  21:59:46     Friday  \n",
       "\n",
       "[42741 rows x 7 columns]"
      ]
     },
     "metadata": {},
     "output_type": "display_data"
    }
   ],
   "source": [
    "moscow_general = df[df['city'] == 'Moscow'] # получение таблицы moscow_general из тех строк таблицы df, \n",
    "display(moscow_general)# для которых значение в столбце 'city' равно 'Moscow'\n"
   ]
  },
  {
   "cell_type": "code",
   "execution_count": 29,
   "metadata": {
    "id": "ORaVRKto_Zcu"
   },
   "outputs": [
    {
     "data": {
      "text/html": [
       "<div>\n",
       "<style scoped>\n",
       "    .dataframe tbody tr th:only-of-type {\n",
       "        vertical-align: middle;\n",
       "    }\n",
       "\n",
       "    .dataframe tbody tr th {\n",
       "        vertical-align: top;\n",
       "    }\n",
       "\n",
       "    .dataframe thead th {\n",
       "        text-align: right;\n",
       "    }\n",
       "</style>\n",
       "<table border=\"1\" class=\"dataframe\">\n",
       "  <thead>\n",
       "    <tr style=\"text-align: right;\">\n",
       "      <th></th>\n",
       "      <th>user_id</th>\n",
       "      <th>track</th>\n",
       "      <th>artist</th>\n",
       "      <th>genre</th>\n",
       "      <th>city</th>\n",
       "      <th>time</th>\n",
       "      <th>day</th>\n",
       "    </tr>\n",
       "  </thead>\n",
       "  <tbody>\n",
       "    <tr>\n",
       "      <td>0</td>\n",
       "      <td>FFB692EC</td>\n",
       "      <td>Kamigata To Boots</td>\n",
       "      <td>The Mass Missile</td>\n",
       "      <td>rock</td>\n",
       "      <td>Saint-Petersburg</td>\n",
       "      <td>20:28:33</td>\n",
       "      <td>Wednesday</td>\n",
       "    </tr>\n",
       "    <tr>\n",
       "      <td>2</td>\n",
       "      <td>20EC38</td>\n",
       "      <td>Funiculì funiculà</td>\n",
       "      <td>Mario Lanza</td>\n",
       "      <td>pop</td>\n",
       "      <td>Saint-Petersburg</td>\n",
       "      <td>20:58:07</td>\n",
       "      <td>Wednesday</td>\n",
       "    </tr>\n",
       "    <tr>\n",
       "      <td>3</td>\n",
       "      <td>A3DD03C9</td>\n",
       "      <td>Dragons in the Sunset</td>\n",
       "      <td>Fire + Ice</td>\n",
       "      <td>folk</td>\n",
       "      <td>Saint-Petersburg</td>\n",
       "      <td>08:37:09</td>\n",
       "      <td>Monday</td>\n",
       "    </tr>\n",
       "    <tr>\n",
       "      <td>5</td>\n",
       "      <td>842029A1</td>\n",
       "      <td>Преданная</td>\n",
       "      <td>IMPERVTOR</td>\n",
       "      <td>rusrap</td>\n",
       "      <td>Saint-Petersburg</td>\n",
       "      <td>13:09:41</td>\n",
       "      <td>Friday</td>\n",
       "    </tr>\n",
       "    <tr>\n",
       "      <td>9</td>\n",
       "      <td>E772D5C0</td>\n",
       "      <td>Pessimist</td>\n",
       "      <td>unknown</td>\n",
       "      <td>dance</td>\n",
       "      <td>Saint-Petersburg</td>\n",
       "      <td>21:20:49</td>\n",
       "      <td>Wednesday</td>\n",
       "    </tr>\n",
       "    <tr>\n",
       "      <td>...</td>\n",
       "      <td>...</td>\n",
       "      <td>...</td>\n",
       "      <td>...</td>\n",
       "      <td>...</td>\n",
       "      <td>...</td>\n",
       "      <td>...</td>\n",
       "      <td>...</td>\n",
       "    </tr>\n",
       "    <tr>\n",
       "      <td>61239</td>\n",
       "      <td>D94F810B</td>\n",
       "      <td>Theme from the Walking Dead</td>\n",
       "      <td>Proyecto Halloween</td>\n",
       "      <td>film</td>\n",
       "      <td>Saint-Petersburg</td>\n",
       "      <td>21:14:40</td>\n",
       "      <td>Monday</td>\n",
       "    </tr>\n",
       "    <tr>\n",
       "      <td>61240</td>\n",
       "      <td>BC8EC5CF</td>\n",
       "      <td>Red Lips: Gta (Rover Rework)</td>\n",
       "      <td>Rover</td>\n",
       "      <td>electronic</td>\n",
       "      <td>Saint-Petersburg</td>\n",
       "      <td>21:06:50</td>\n",
       "      <td>Monday</td>\n",
       "    </tr>\n",
       "    <tr>\n",
       "      <td>61241</td>\n",
       "      <td>29E04611</td>\n",
       "      <td>Bre Petrunko</td>\n",
       "      <td>Perunika Trio</td>\n",
       "      <td>world</td>\n",
       "      <td>Saint-Petersburg</td>\n",
       "      <td>13:56:00</td>\n",
       "      <td>Monday</td>\n",
       "    </tr>\n",
       "    <tr>\n",
       "      <td>61242</td>\n",
       "      <td>1B91C621</td>\n",
       "      <td>(Hello) Cloud Mountain</td>\n",
       "      <td>sleepmakeswaves</td>\n",
       "      <td>postrock</td>\n",
       "      <td>Saint-Petersburg</td>\n",
       "      <td>09:22:13</td>\n",
       "      <td>Monday</td>\n",
       "    </tr>\n",
       "    <tr>\n",
       "      <td>61249</td>\n",
       "      <td>D08D4A55</td>\n",
       "      <td>Maybe One Day (feat. Black Spade)</td>\n",
       "      <td>Blu &amp; Exile</td>\n",
       "      <td>hiphop</td>\n",
       "      <td>Saint-Petersburg</td>\n",
       "      <td>10:00:00</td>\n",
       "      <td>Monday</td>\n",
       "    </tr>\n",
       "  </tbody>\n",
       "</table>\n",
       "<p>18512 rows × 7 columns</p>\n",
       "</div>"
      ],
      "text/plain": [
       "        user_id                              track              artist  \\\n",
       "0      FFB692EC                  Kamigata To Boots    The Mass Missile   \n",
       "2        20EC38                  Funiculì funiculà         Mario Lanza   \n",
       "3      A3DD03C9              Dragons in the Sunset          Fire + Ice   \n",
       "5      842029A1                          Преданная           IMPERVTOR   \n",
       "9      E772D5C0                          Pessimist             unknown   \n",
       "...         ...                                ...                 ...   \n",
       "61239  D94F810B        Theme from the Walking Dead  Proyecto Halloween   \n",
       "61240  BC8EC5CF       Red Lips: Gta (Rover Rework)               Rover   \n",
       "61241  29E04611                       Bre Petrunko       Perunika Trio   \n",
       "61242  1B91C621             (Hello) Cloud Mountain     sleepmakeswaves   \n",
       "61249  D08D4A55  Maybe One Day (feat. Black Spade)         Blu & Exile   \n",
       "\n",
       "            genre              city      time        day  \n",
       "0            rock  Saint-Petersburg  20:28:33  Wednesday  \n",
       "2             pop  Saint-Petersburg  20:58:07  Wednesday  \n",
       "3            folk  Saint-Petersburg  08:37:09     Monday  \n",
       "5          rusrap  Saint-Petersburg  13:09:41     Friday  \n",
       "9           dance  Saint-Petersburg  21:20:49  Wednesday  \n",
       "...           ...               ...       ...        ...  \n",
       "61239        film  Saint-Petersburg  21:14:40     Monday  \n",
       "61240  electronic  Saint-Petersburg  21:06:50     Monday  \n",
       "61241       world  Saint-Petersburg  13:56:00     Monday  \n",
       "61242    postrock  Saint-Petersburg  09:22:13     Monday  \n",
       "61249      hiphop  Saint-Petersburg  10:00:00     Monday  \n",
       "\n",
       "[18512 rows x 7 columns]"
      ]
     },
     "metadata": {},
     "output_type": "display_data"
    }
   ],
   "source": [
    "spb_general = df[df['city'] == 'Saint-Petersburg'] # получение таблицы spb_general из тех строк таблицы df,\n",
    "display(spb_general)# для которых значение в столбце 'city' равно 'Saint-Petersburg'\n"
   ]
  },
  {
   "cell_type": "markdown",
   "metadata": {
    "id": "MEJV-CX2_Zcu"
   },
   "source": [
    "Создайте функцию `genre_weekday()` с четырьмя параметрами:\n",
    "* таблица (датафрейм) с данными,\n",
    "* день недели,\n",
    "* начальная временная метка в формате 'hh:mm', \n",
    "* последняя временная метка в формате 'hh:mm'.\n",
    "\n",
    "Функция должна вернуть информацию о топ-10 жанров тех треков, которые прослушивали в указанный день, в промежутке между двумя отметками времени."
   ]
  },
  {
   "cell_type": "code",
   "execution_count": 30,
   "metadata": {
    "id": "laJT9BYl_Zcu"
   },
   "outputs": [],
   "source": [
    "def genre_weekday(table, day, time1, time2):\n",
    "    genre_df = table[(table['day'] == day) & (table['time'] > time1) & (table['time'] < time2)]\n",
    "    genre_df_grouped = genre_df.groupby('genre')['genre'].count()\n",
    "    genre_df_sorted = genre_df_grouped.sort_values(ascending=False)\n",
    "    return genre_df_sorted.head(10)"
   ]
  },
  {
   "cell_type": "markdown",
   "metadata": {
    "id": "la2s2_PF_Zcu"
   },
   "source": [
    "Cравните результаты функции `genre_weekday()` для Москвы и Санкт-Петербурга в понедельник утром (с 7:00 до 11:00) и в пятницу вечером (с 17:00 до 23:00):"
   ]
  },
  {
   "cell_type": "code",
   "execution_count": 31,
   "metadata": {
    "id": "yz7itPUQ_Zcu"
   },
   "outputs": [
    {
     "data": {
      "text/plain": [
       "genre\n",
       "pop            781\n",
       "dance          549\n",
       "electronic     480\n",
       "rock           474\n",
       "hiphop         286\n",
       "ruspop         186\n",
       "world          181\n",
       "rusrap         175\n",
       "alternative    164\n",
       "unknown        161\n",
       "Name: genre, dtype: int64"
      ]
     },
     "execution_count": 31,
     "metadata": {},
     "output_type": "execute_result"
    }
   ],
   "source": [
    "genre_weekday(moscow_general, 'Monday', '07:00', '11:00')  # вызов функции для утра понедельника в Москве (вместо df — таблица moscow_general)\n",
    "# объекты, хранящие время, являются строками и сравниваются как строки\n",
    "# пример вызова: genre_weekday(moscow_general, 'Monday', '07:00', '11:00')"
   ]
  },
  {
   "cell_type": "code",
   "execution_count": 32,
   "metadata": {
    "id": "kwUcHPdy_Zcu",
    "scrolled": true
   },
   "outputs": [
    {
     "data": {
      "text/plain": [
       "genre\n",
       "pop            218\n",
       "dance          182\n",
       "rock           162\n",
       "electronic     147\n",
       "hiphop          80\n",
       "ruspop          64\n",
       "alternative     58\n",
       "rusrap          55\n",
       "jazz            44\n",
       "classical       40\n",
       "Name: genre, dtype: int64"
      ]
     },
     "execution_count": 32,
     "metadata": {},
     "output_type": "execute_result"
    }
   ],
   "source": [
    "genre_weekday(spb_general, 'Monday', '07:00', '11:00') # вызов функции для утра понедельника в Петербурге (вместо df — таблица spb_general)"
   ]
  },
  {
   "cell_type": "code",
   "execution_count": 33,
   "metadata": {
    "id": "EzXVRE1o_Zcu",
    "scrolled": true
   },
   "outputs": [
    {
     "data": {
      "text/plain": [
       "genre\n",
       "pop            713\n",
       "rock           517\n",
       "dance          495\n",
       "electronic     482\n",
       "hiphop         273\n",
       "world          208\n",
       "ruspop         170\n",
       "alternative    163\n",
       "classical      163\n",
       "rusrap         142\n",
       "Name: genre, dtype: int64"
      ]
     },
     "execution_count": 33,
     "metadata": {},
     "output_type": "execute_result"
    }
   ],
   "source": [
    "genre_weekday(moscow_general, 'Friday', '17:00', '23:00')# вызов функции для вечера пятницы в Москве"
   ]
  },
  {
   "cell_type": "code",
   "execution_count": 34,
   "metadata": {
    "id": "JZaEKu5v_Zcu",
    "scrolled": false
   },
   "outputs": [
    {
     "data": {
      "text/plain": [
       "genre\n",
       "pop            256\n",
       "rock           216\n",
       "electronic     216\n",
       "dance          210\n",
       "hiphop          97\n",
       "alternative     63\n",
       "jazz            61\n",
       "classical       60\n",
       "rusrap          59\n",
       "world           54\n",
       "Name: genre, dtype: int64"
      ]
     },
     "execution_count": 34,
     "metadata": {},
     "output_type": "execute_result"
    }
   ],
   "source": [
    "genre_weekday(spb_general, 'Friday', '17:00', '23:00')# вызов функции для вечера пятницы в Петербурге"
   ]
  },
  {
   "cell_type": "markdown",
   "metadata": {
    "id": "wrCe4MNX_Zcu"
   },
   "source": [
    "**Выводы**\n",
    "\n",
    "Если сравнить топ-10 жанров в понедельник утром, можно сделать такие выводы:\n",
    "\n",
    "1. В Москве и Петербурге слушают похожую музыку. Единственное отличие — в московский рейтинг вошёл жанр “world”, а в петербургский — джаз и классика.\n",
    "\n",
    "2. В Москве пропущенных значений оказалось так много, что значение `'unknown'` заняло десятое место среди самых популярных жанров. Значит, пропущенные значения занимают существенную долю в данных и угрожают достоверности исследования.\n",
    "\n",
    "Вечер пятницы не меняет эту картину. Некоторые жанры поднимаются немного выше, другие спускаются, но в целом топ-10 остаётся тем же самым.\n",
    "\n",
    "Таким образом, вторая гипотеза подтвердилась лишь частично:\n",
    "* Пользователи слушают похожую музыку в начале недели и в конце.\n",
    "* Разница между Москвой и Петербургом не слишком выражена. В Москве чаще слушают русскую популярную музыку, в Петербурге — джаз.\n",
    "\n",
    "Однако пропуски в данных ставят под сомнение этот результат. В Москве их так много, что рейтинг топ-10 мог бы выглядеть иначе, если бы не утерянные  данные о жанрах."
   ]
  },
  {
   "cell_type": "markdown",
   "metadata": {
    "id": "JolODAqr_Zcu"
   },
   "source": [
    "### Жанровые предпочтения в Москве и Петербурге\n",
    "\n",
    "Гипотеза: Петербург — столица рэпа, музыку этого жанра там слушают чаще, чем в Москве.  А Москва — город контрастов, в котором, тем не менее, преобладает поп-музыка."
   ]
  },
  {
   "cell_type": "markdown",
   "metadata": {
    "id": "DlegSvaT_Zcu"
   },
   "source": [
    "Сгруппируйте таблицу `moscow_general` по жанру и посчитайте прослушивания треков каждого жанра методом `count()`. Затем отсортируйте результат в порядке убывания и сохраните его в таблице `moscow_genres`."
   ]
  },
  {
   "cell_type": "code",
   "execution_count": 35,
   "metadata": {
    "id": "r19lIPke_Zcu"
   },
   "outputs": [],
   "source": [
    "moscow_genres = moscow_general.groupby('genre')['genre'].count().sort_values(ascending=False)# одной строкой: группировка таблицы moscow_general по столбцу 'genre', \n",
    "# подсчёт числа значений 'genre' в этой группировке методом count(), \n",
    "# сортировка получившегося Series в порядке убывания и сохранение в moscow_genres"
   ]
  },
  {
   "cell_type": "markdown",
   "metadata": {
    "id": "6kMuomxTiIr8"
   },
   "source": [
    "Выведите на экран первые десять строк `moscow_genres`:"
   ]
  },
  {
   "cell_type": "code",
   "execution_count": 36,
   "metadata": {
    "id": "WhCSooF8_Zcv"
   },
   "outputs": [
    {
     "name": "stdout",
     "output_type": "stream",
     "text": [
      "genre\n",
      "pop            5892\n",
      "dance          4435\n",
      "rock           3965\n",
      "electronic     3786\n",
      "hiphop         2096\n",
      "classical      1616\n",
      "world          1432\n",
      "alternative    1379\n",
      "ruspop         1372\n",
      "rusrap         1161\n",
      "Name: genre, dtype: int64\n"
     ]
    }
   ],
   "source": [
    "print(moscow_genres.head(10))# просмотр первых 10 строк moscow_genres"
   ]
  },
  {
   "cell_type": "markdown",
   "metadata": {
    "id": "cnPG2vnN_Zcv"
   },
   "source": [
    "Теперь повторите то же и для Петербурга.\n",
    "\n",
    "Сгруппируйте таблицу `spb_general` по жанру. Посчитайте прослушивания треков каждого жанра. Результат отсортируйте в порядке убывания и сохраните в таблице `spb_genres`:\n"
   ]
  },
  {
   "cell_type": "code",
   "execution_count": 37,
   "metadata": {
    "id": "gluLIpE7_Zcv"
   },
   "outputs": [],
   "source": [
    "spb_genres = spb_general.groupby('genre')['genre'].count().sort_values(ascending=False)\n",
    "# одной строкой: группировка таблицы spb_general по столбцу 'genre', \n",
    "# подсчёт числа значений 'genre' в этой группировке методом count(), \n",
    "# сортировка получившегося Series в порядке убывания и сохранение в spb_genres"
   ]
  },
  {
   "cell_type": "markdown",
   "metadata": {
    "id": "5Doha_ODgyQ8"
   },
   "source": [
    "Выведите на экран первые десять строк `spb_genres`:"
   ]
  },
  {
   "cell_type": "code",
   "execution_count": 38,
   "metadata": {
    "id": "uaGJHjVU_Zcv"
   },
   "outputs": [
    {
     "name": "stdout",
     "output_type": "stream",
     "text": [
      "genre\n",
      "pop            2431\n",
      "dance          1932\n",
      "rock           1879\n",
      "electronic     1736\n",
      "hiphop          960\n",
      "alternative     649\n",
      "classical       646\n",
      "rusrap          564\n",
      "ruspop          538\n",
      "world           515\n",
      "Name: genre, dtype: int64\n"
     ]
    }
   ],
   "source": [
    "print(spb_genres.head(10))# просмотр первых 10 строк spb_genres"
   ]
  },
  {
   "cell_type": "markdown",
   "metadata": {
    "id": "RY51YJYu_Zcv"
   },
   "source": [
    "**Выводы**"
   ]
  },
  {
   "cell_type": "markdown",
   "metadata": {
    "id": "nVhnJEm__Zcv"
   },
   "source": [
    "Гипотеза частично подтвердилась:\n",
    "* Поп-музыка — самый популярный жанр в Москве, как и предполагала гипотеза. Более того, в топ-10 жанров встречается близкий жанр — русская популярная музыка.\n",
    "* Вопреки ожиданиям, рэп одинаково популярен в Москве и Петербурге. \n"
   ]
  },
  {
   "cell_type": "markdown",
   "metadata": {
    "id": "ykKQ0N65_Zcv"
   },
   "source": [
    "## Итоги исследования"
   ]
  },
  {
   "cell_type": "markdown",
   "metadata": {
    "id": "tjUwbHb3_Zcv"
   },
   "source": [
    "Вы проверили три гипотезы и установили:\n",
    "\n",
    "1. День недели по-разному влияет на активность пользователей в Москве и Петербурге. \n",
    "\n",
    "Первая гипотеза полностью подтвердилась.\n",
    "\n",
    "2. Музыкальные предпочтения не сильно меняются в течение недели — будь то Москва или Петербург. Небольшие различия заметны в начале недели, по понедельникам:\n",
    "* в Москве слушают музыку жанра “world”,\n",
    "* в Петербурге — джаз и классику.\n",
    "\n",
    "Таким образом, вторая гипотеза подтвердилась лишь отчасти. Этот результат мог оказаться иным, если бы не пропуски в данных.\n",
    "\n",
    "3. Во вкусах пользователей Москвы и Петербурга больше общего чем различий. Вопреки ожиданиям, предпочтения жанров в Петербурге напоминают московские.\n",
    "\n",
    "Третья гипотеза не подтвердилась. Если различия в предпочтениях и существуют, на основной массе пользователей они незаметны.\n",
    "\n",
    "**На практике исследования содержат проверки статистических гипотез.**\n",
    "Из данных одного сервиса не всегда можно сделать вывод о всех жителях города.\n",
    "Проверки статистических гипотез покажут, насколько они достоверны, исходя из имеющихся данных. \n",
    "С методами проверок гипотез вы ещё познакомитесь в следующих темах."
   ]
  },
  {
   "cell_type": "code",
   "execution_count": null,
   "metadata": {},
   "outputs": [],
   "source": []
  }
 ],
 "metadata": {
  "ExecuteTimeLog": [
   {
    "duration": 602,
    "start_time": "2021-10-28T16:04:31.742Z"
   },
   {
    "duration": 350,
    "start_time": "2021-10-28T16:05:42.897Z"
   },
   {
    "duration": 646,
    "start_time": "2021-10-28T16:06:03.384Z"
   },
   {
    "duration": 152,
    "start_time": "2021-10-28T16:06:04.032Z"
   },
   {
    "duration": 18,
    "start_time": "2021-10-28T16:06:04.186Z"
   },
   {
    "duration": 30,
    "start_time": "2021-10-28T16:06:04.206Z"
   },
   {
    "duration": 3,
    "start_time": "2021-10-28T16:06:04.238Z"
   },
   {
    "duration": 4,
    "start_time": "2021-10-28T16:06:04.243Z"
   },
   {
    "duration": 28,
    "start_time": "2021-10-28T16:06:04.249Z"
   },
   {
    "duration": 5,
    "start_time": "2021-10-28T16:06:04.279Z"
   },
   {
    "duration": 3,
    "start_time": "2021-10-28T16:06:04.287Z"
   },
   {
    "duration": 4,
    "start_time": "2021-10-28T16:06:04.292Z"
   },
   {
    "duration": 4,
    "start_time": "2021-10-28T16:06:04.299Z"
   },
   {
    "duration": 8,
    "start_time": "2021-10-28T16:06:04.305Z"
   },
   {
    "duration": 5,
    "start_time": "2021-10-28T16:06:04.315Z"
   },
   {
    "duration": 6,
    "start_time": "2021-10-28T16:06:04.321Z"
   },
   {
    "duration": 5,
    "start_time": "2021-10-28T16:06:04.329Z"
   },
   {
    "duration": 7,
    "start_time": "2021-10-28T16:06:04.336Z"
   },
   {
    "duration": 4,
    "start_time": "2021-10-28T16:06:04.377Z"
   },
   {
    "duration": 4,
    "start_time": "2021-10-28T16:06:04.383Z"
   },
   {
    "duration": 5,
    "start_time": "2021-10-28T16:06:04.389Z"
   },
   {
    "duration": 6,
    "start_time": "2021-10-28T16:06:04.396Z"
   },
   {
    "duration": 7,
    "start_time": "2021-10-28T16:06:04.403Z"
   },
   {
    "duration": 5,
    "start_time": "2021-10-28T16:06:04.412Z"
   },
   {
    "duration": 4,
    "start_time": "2021-10-28T16:06:04.420Z"
   },
   {
    "duration": 4,
    "start_time": "2021-10-28T16:06:04.426Z"
   },
   {
    "duration": 4,
    "start_time": "2021-10-28T16:06:04.432Z"
   },
   {
    "duration": 6,
    "start_time": "2021-10-28T16:06:04.438Z"
   },
   {
    "duration": 4,
    "start_time": "2021-10-28T16:06:04.479Z"
   },
   {
    "duration": 7,
    "start_time": "2021-10-28T16:06:04.485Z"
   },
   {
    "duration": 4,
    "start_time": "2021-10-28T16:06:04.494Z"
   },
   {
    "duration": 6,
    "start_time": "2021-10-28T16:06:04.500Z"
   },
   {
    "duration": 6,
    "start_time": "2021-10-28T16:06:04.508Z"
   },
   {
    "duration": 6,
    "start_time": "2021-10-28T16:06:04.516Z"
   },
   {
    "duration": 8,
    "start_time": "2021-10-28T16:06:04.524Z"
   },
   {
    "duration": 4,
    "start_time": "2021-10-28T16:06:04.534Z"
   },
   {
    "duration": 4,
    "start_time": "2021-10-28T16:06:04.540Z"
   },
   {
    "duration": 4,
    "start_time": "2021-10-28T16:06:04.546Z"
   },
   {
    "duration": 2,
    "start_time": "2021-10-28T16:06:04.577Z"
   },
   {
    "duration": 4,
    "start_time": "2021-10-28T16:06:04.581Z"
   },
   {
    "duration": 21,
    "start_time": "2021-10-28T16:08:47.788Z"
   },
   {
    "duration": 27,
    "start_time": "2021-10-28T16:09:00.532Z"
   },
   {
    "duration": 34,
    "start_time": "2021-10-28T16:09:37.733Z"
   },
   {
    "duration": 17,
    "start_time": "2021-10-28T16:10:03.740Z"
   },
   {
    "duration": 18,
    "start_time": "2021-10-28T16:10:08.928Z"
   },
   {
    "duration": 20,
    "start_time": "2021-10-28T16:10:33.545Z"
   },
   {
    "duration": 385,
    "start_time": "2021-10-28T16:10:52.413Z"
   },
   {
    "duration": 4,
    "start_time": "2021-10-28T16:11:05.786Z"
   },
   {
    "duration": 15,
    "start_time": "2021-10-28T16:11:19.224Z"
   },
   {
    "duration": 4,
    "start_time": "2021-10-28T16:11:43.686Z"
   },
   {
    "duration": 337,
    "start_time": "2021-10-28T16:22:23.269Z"
   },
   {
    "duration": 22,
    "start_time": "2021-10-28T16:22:47.516Z"
   },
   {
    "duration": 23,
    "start_time": "2021-10-28T16:23:13.484Z"
   },
   {
    "duration": 24,
    "start_time": "2021-10-28T16:23:26.066Z"
   },
   {
    "duration": 23,
    "start_time": "2021-10-28T16:23:37.257Z"
   },
   {
    "duration": -99,
    "start_time": "2021-10-28T16:27:44.493Z"
   },
   {
    "duration": 24,
    "start_time": "2021-10-28T16:28:01.627Z"
   },
   {
    "duration": 8695,
    "start_time": "2021-10-28T16:28:15.695Z"
   },
   {
    "duration": 35,
    "start_time": "2021-10-28T16:28:24.358Z"
   },
   {
    "duration": 44,
    "start_time": "2021-10-28T16:29:05.287Z"
   },
   {
    "duration": 3,
    "start_time": "2021-10-28T16:29:07.075Z"
   },
   {
    "duration": 159,
    "start_time": "2021-10-28T16:29:07.080Z"
   },
   {
    "duration": 11,
    "start_time": "2021-10-28T16:29:07.242Z"
   },
   {
    "duration": 36,
    "start_time": "2021-10-28T16:29:07.255Z"
   },
   {
    "duration": 4,
    "start_time": "2021-10-28T16:29:07.294Z"
   },
   {
    "duration": 20,
    "start_time": "2021-10-28T16:29:07.301Z"
   },
   {
    "duration": 6,
    "start_time": "2021-10-28T16:29:07.323Z"
   },
   {
    "duration": 72,
    "start_time": "2021-10-28T16:29:07.331Z"
   },
   {
    "duration": 9256,
    "start_time": "2021-10-28T16:29:11.192Z"
   },
   {
    "duration": 91,
    "start_time": "2021-10-28T16:29:20.362Z"
   },
   {
    "duration": 39,
    "start_time": "2021-10-28T16:29:34.101Z"
   },
   {
    "duration": 333,
    "start_time": "2021-10-28T16:32:41.446Z"
   },
   {
    "duration": 351,
    "start_time": "2021-10-28T16:32:49.926Z"
   },
   {
    "duration": 383,
    "start_time": "2021-10-28T16:33:01.445Z"
   },
   {
    "duration": 24,
    "start_time": "2021-10-28T16:34:47.823Z"
   },
   {
    "duration": 23,
    "start_time": "2021-10-28T16:34:53.159Z"
   },
   {
    "duration": 56,
    "start_time": "2021-10-28T16:38:51.865Z"
   },
   {
    "duration": 63,
    "start_time": "2021-10-28T16:38:55.769Z"
   },
   {
    "duration": 60,
    "start_time": "2021-10-28T16:39:18.870Z"
   },
   {
    "duration": 7,
    "start_time": "2021-10-28T16:41:54.530Z"
   },
   {
    "duration": 4,
    "start_time": "2021-10-28T17:12:16.072Z"
   },
   {
    "duration": 336,
    "start_time": "2021-10-28T17:12:18.670Z"
   },
   {
    "duration": 17,
    "start_time": "2021-10-28T17:12:36.003Z"
   },
   {
    "duration": 15,
    "start_time": "2021-10-28T17:12:38.753Z"
   },
   {
    "duration": 7,
    "start_time": "2021-10-28T17:12:42.259Z"
   },
   {
    "duration": 330,
    "start_time": "2021-10-28T17:42:47.934Z"
   },
   {
    "duration": 326,
    "start_time": "2021-10-28T17:44:19.019Z"
   },
   {
    "duration": 367,
    "start_time": "2021-10-28T17:44:38.855Z"
   },
   {
    "duration": 335,
    "start_time": "2021-10-28T17:45:54.660Z"
   },
   {
    "duration": 339,
    "start_time": "2021-10-28T17:46:52.545Z"
   },
   {
    "duration": 696,
    "start_time": "2021-10-28T17:48:31.365Z"
   },
   {
    "duration": 345,
    "start_time": "2021-10-28T17:51:59.570Z"
   },
   {
    "duration": 324,
    "start_time": "2021-10-28T17:52:22.956Z"
   },
   {
    "duration": 351,
    "start_time": "2021-10-28T19:12:53.922Z"
   },
   {
    "duration": 796,
    "start_time": "2021-10-28T19:13:15.587Z"
   },
   {
    "duration": 217,
    "start_time": "2021-10-28T19:13:16.386Z"
   },
   {
    "duration": 26,
    "start_time": "2021-10-28T19:13:16.606Z"
   },
   {
    "duration": 41,
    "start_time": "2021-10-28T19:13:16.634Z"
   },
   {
    "duration": 22,
    "start_time": "2021-10-28T19:13:16.677Z"
   },
   {
    "duration": 48,
    "start_time": "2021-10-28T19:13:16.701Z"
   },
   {
    "duration": 29,
    "start_time": "2021-10-28T19:13:16.751Z"
   },
   {
    "duration": 59,
    "start_time": "2021-10-28T19:13:16.782Z"
   },
   {
    "duration": 46,
    "start_time": "2021-10-28T19:13:16.843Z"
   },
   {
    "duration": 56,
    "start_time": "2021-10-28T19:13:16.891Z"
   },
   {
    "duration": 87,
    "start_time": "2021-10-28T19:13:16.949Z"
   },
   {
    "duration": 73,
    "start_time": "2021-10-28T19:13:17.038Z"
   },
   {
    "duration": 52,
    "start_time": "2021-10-28T19:13:17.113Z"
   },
   {
    "duration": 11,
    "start_time": "2021-10-28T19:13:17.167Z"
   },
   {
    "duration": 16,
    "start_time": "2021-10-28T19:13:17.180Z"
   },
   {
    "duration": 52,
    "start_time": "2021-10-28T19:13:17.198Z"
   },
   {
    "duration": 26,
    "start_time": "2021-10-28T19:13:17.253Z"
   },
   {
    "duration": 406,
    "start_time": "2021-10-28T19:13:17.281Z"
   },
   {
    "duration": 77,
    "start_time": "2021-10-28T19:13:17.613Z"
   },
   {
    "duration": 73,
    "start_time": "2021-10-28T19:13:17.619Z"
   },
   {
    "duration": 65,
    "start_time": "2021-10-28T19:13:17.627Z"
   },
   {
    "duration": 60,
    "start_time": "2021-10-28T19:13:17.633Z"
   },
   {
    "duration": 56,
    "start_time": "2021-10-28T19:13:17.638Z"
   },
   {
    "duration": 50,
    "start_time": "2021-10-28T19:13:17.645Z"
   },
   {
    "duration": 47,
    "start_time": "2021-10-28T19:13:17.649Z"
   },
   {
    "duration": 44,
    "start_time": "2021-10-28T19:13:17.653Z"
   },
   {
    "duration": 40,
    "start_time": "2021-10-28T19:13:17.658Z"
   },
   {
    "duration": 27,
    "start_time": "2021-10-28T19:13:17.672Z"
   },
   {
    "duration": 23,
    "start_time": "2021-10-28T19:13:17.677Z"
   },
   {
    "duration": 20,
    "start_time": "2021-10-28T19:13:17.681Z"
   },
   {
    "duration": 17,
    "start_time": "2021-10-28T19:13:17.685Z"
   },
   {
    "duration": 14,
    "start_time": "2021-10-28T19:13:17.689Z"
   },
   {
    "duration": 11,
    "start_time": "2021-10-28T19:13:17.693Z"
   },
   {
    "duration": 7,
    "start_time": "2021-10-28T19:13:17.697Z"
   },
   {
    "duration": 5,
    "start_time": "2021-10-28T19:13:17.700Z"
   },
   {
    "duration": 2,
    "start_time": "2021-10-28T19:13:17.704Z"
   },
   {
    "duration": 0,
    "start_time": "2021-10-28T19:13:17.707Z"
   },
   {
    "duration": -3,
    "start_time": "2021-10-28T19:13:17.711Z"
   },
   {
    "duration": 114,
    "start_time": "2021-10-28T19:13:44.795Z"
   },
   {
    "duration": 332,
    "start_time": "2021-10-28T19:13:53.194Z"
   },
   {
    "duration": 34,
    "start_time": "2021-10-28T19:16:05.700Z"
   },
   {
    "duration": 31,
    "start_time": "2021-10-28T19:16:29.171Z"
   },
   {
    "duration": 331,
    "start_time": "2021-10-28T19:20:25.977Z"
   },
   {
    "duration": 4,
    "start_time": "2021-10-28T19:20:37.966Z"
   },
   {
    "duration": 3,
    "start_time": "2021-10-28T19:20:42.486Z"
   },
   {
    "duration": 24,
    "start_time": "2021-10-28T19:20:45.815Z"
   },
   {
    "duration": 21,
    "start_time": "2021-10-28T19:20:59.687Z"
   },
   {
    "duration": 3,
    "start_time": "2021-10-28T19:23:06.206Z"
   },
   {
    "duration": 3,
    "start_time": "2021-10-28T19:23:15.314Z"
   },
   {
    "duration": 691,
    "start_time": "2021-10-28T19:23:17.101Z"
   },
   {
    "duration": 3,
    "start_time": "2021-10-28T19:23:38.000Z"
   },
   {
    "duration": 4,
    "start_time": "2021-10-28T19:23:43.781Z"
   },
   {
    "duration": 133,
    "start_time": "2021-10-28T19:23:50.275Z"
   },
   {
    "duration": 4,
    "start_time": "2021-10-28T19:23:57.245Z"
   },
   {
    "duration": 3,
    "start_time": "2021-10-28T19:23:59.549Z"
   },
   {
    "duration": 24,
    "start_time": "2021-10-28T19:24:33.125Z"
   },
   {
    "duration": 15,
    "start_time": "2021-10-28T19:25:10.627Z"
   },
   {
    "duration": 20,
    "start_time": "2021-10-28T19:25:32.108Z"
   },
   {
    "duration": 16,
    "start_time": "2021-10-28T19:25:40.198Z"
   },
   {
    "duration": 17,
    "start_time": "2021-10-28T19:25:52.304Z"
   },
   {
    "duration": 24,
    "start_time": "2021-10-28T19:26:19.419Z"
   },
   {
    "duration": 23,
    "start_time": "2021-10-28T19:26:39.825Z"
   },
   {
    "duration": 21,
    "start_time": "2021-10-28T19:33:14.069Z"
   },
   {
    "duration": 18,
    "start_time": "2021-10-28T19:33:15.797Z"
   },
   {
    "duration": 22,
    "start_time": "2021-10-28T19:38:56.583Z"
   },
   {
    "duration": 12,
    "start_time": "2021-10-28T19:38:58.147Z"
   },
   {
    "duration": 18,
    "start_time": "2021-10-28T19:39:26.558Z"
   },
   {
    "duration": 24,
    "start_time": "2021-10-28T19:39:31.642Z"
   },
   {
    "duration": 22,
    "start_time": "2021-10-28T19:39:32.425Z"
   },
   {
    "duration": 19,
    "start_time": "2021-10-28T19:39:33.030Z"
   },
   {
    "duration": 15,
    "start_time": "2021-10-28T19:39:33.578Z"
   },
   {
    "duration": 19,
    "start_time": "2021-10-28T19:39:34.328Z"
   },
   {
    "duration": 16,
    "start_time": "2021-10-28T19:39:35.024Z"
   },
   {
    "duration": 4,
    "start_time": "2021-10-28T19:42:02.036Z"
   },
   {
    "duration": -34,
    "start_time": "2021-10-28T19:42:17.354Z"
   },
   {
    "duration": -43,
    "start_time": "2021-10-28T19:42:17.365Z"
   },
   {
    "duration": -47,
    "start_time": "2021-10-28T19:42:17.370Z"
   },
   {
    "duration": -51,
    "start_time": "2021-10-28T19:42:17.375Z"
   },
   {
    "duration": -53,
    "start_time": "2021-10-28T19:42:17.378Z"
   },
   {
    "duration": -56,
    "start_time": "2021-10-28T19:42:17.382Z"
   },
   {
    "duration": 3,
    "start_time": "2021-10-28T19:42:29.233Z"
   },
   {
    "duration": 3,
    "start_time": "2021-10-28T19:42:31.623Z"
   },
   {
    "duration": 3,
    "start_time": "2021-10-28T19:42:33.421Z"
   },
   {
    "duration": 3,
    "start_time": "2021-10-28T19:42:35.328Z"
   },
   {
    "duration": 8707,
    "start_time": "2021-10-28T19:42:38.490Z"
   },
   {
    "duration": -82,
    "start_time": "2021-10-28T19:42:47.282Z"
   },
   {
    "duration": -88,
    "start_time": "2021-10-28T19:42:47.289Z"
   },
   {
    "duration": -93,
    "start_time": "2021-10-28T19:42:47.295Z"
   },
   {
    "duration": -96,
    "start_time": "2021-10-28T19:42:47.299Z"
   },
   {
    "duration": -100,
    "start_time": "2021-10-28T19:42:47.304Z"
   },
   {
    "duration": 4,
    "start_time": "2021-10-28T19:42:49.413Z"
   },
   {
    "duration": 25,
    "start_time": "2021-10-28T19:42:52.228Z"
   },
   {
    "duration": 21,
    "start_time": "2021-10-28T19:42:53.192Z"
   },
   {
    "duration": 20,
    "start_time": "2021-10-28T19:42:53.636Z"
   },
   {
    "duration": 16,
    "start_time": "2021-10-28T19:42:54.046Z"
   },
   {
    "duration": 21,
    "start_time": "2021-10-28T19:42:54.480Z"
   },
   {
    "duration": 17,
    "start_time": "2021-10-28T19:42:54.913Z"
   },
   {
    "duration": 23,
    "start_time": "2021-10-28T19:44:03.570Z"
   },
   {
    "duration": 19,
    "start_time": "2021-10-28T19:44:47.273Z"
   },
   {
    "duration": 3,
    "start_time": "2021-10-28T19:56:52.753Z"
   },
   {
    "duration": 25,
    "start_time": "2021-10-28T19:56:58.189Z"
   },
   {
    "duration": 16,
    "start_time": "2021-10-28T19:56:58.570Z"
   },
   {
    "duration": 9,
    "start_time": "2021-10-28T19:56:59.579Z"
   },
   {
    "duration": 8,
    "start_time": "2021-10-28T19:57:02.800Z"
   },
   {
    "duration": 9,
    "start_time": "2021-10-28T19:57:04.360Z"
   },
   {
    "duration": 14,
    "start_time": "2021-10-28T19:57:05.464Z"
   },
   {
    "duration": 17,
    "start_time": "2021-10-28T19:57:22.050Z"
   },
   {
    "duration": 15,
    "start_time": "2021-10-28T19:57:22.782Z"
   },
   {
    "duration": 17,
    "start_time": "2021-10-28T19:57:23.442Z"
   },
   {
    "duration": 15,
    "start_time": "2021-10-28T19:57:24.134Z"
   },
   {
    "duration": 18,
    "start_time": "2021-10-28T19:57:24.736Z"
   },
   {
    "duration": 15,
    "start_time": "2021-10-28T19:57:25.358Z"
   },
   {
    "duration": 108,
    "start_time": "2021-10-28T20:02:37.647Z"
   },
   {
    "duration": 120,
    "start_time": "2021-10-28T20:02:49.559Z"
   },
   {
    "duration": 110,
    "start_time": "2021-10-28T20:02:59.841Z"
   },
   {
    "duration": 113,
    "start_time": "2021-10-28T20:03:10.588Z"
   },
   {
    "duration": 121,
    "start_time": "2021-10-28T20:08:00.884Z"
   },
   {
    "duration": 116,
    "start_time": "2021-10-28T20:09:03.499Z"
   },
   {
    "duration": 121,
    "start_time": "2021-10-28T20:09:10.820Z"
   },
   {
    "duration": 115,
    "start_time": "2021-10-28T20:09:19.946Z"
   },
   {
    "duration": 350,
    "start_time": "2021-10-28T20:09:52.628Z"
   },
   {
    "duration": 114,
    "start_time": "2021-10-28T20:10:36.566Z"
   },
   {
    "duration": 4,
    "start_time": "2021-10-28T20:12:42.560Z"
   },
   {
    "duration": 6,
    "start_time": "2021-10-28T20:12:47.127Z"
   },
   {
    "duration": 28,
    "start_time": "2021-10-28T20:12:51.650Z"
   },
   {
    "duration": 319,
    "start_time": "2021-10-28T20:13:22.484Z"
   },
   {
    "duration": 21,
    "start_time": "2021-10-28T20:13:39.609Z"
   },
   {
    "duration": 24,
    "start_time": "2021-10-28T20:13:40.832Z"
   },
   {
    "duration": 43,
    "start_time": "2021-10-28T20:13:41.492Z"
   },
   {
    "duration": 37,
    "start_time": "2021-10-28T20:14:59.967Z"
   },
   {
    "duration": 26,
    "start_time": "2021-10-28T20:15:03.556Z"
   },
   {
    "duration": 4,
    "start_time": "2021-10-28T20:16:33.439Z"
   },
   {
    "duration": 16,
    "start_time": "2021-10-28T20:16:36.395Z"
   },
   {
    "duration": 12,
    "start_time": "2021-10-28T20:16:37.359Z"
   },
   {
    "duration": 21,
    "start_time": "2021-10-28T20:17:39.068Z"
   },
   {
    "duration": 11,
    "start_time": "2021-10-28T20:17:39.908Z"
   },
   {
    "duration": 19,
    "start_time": "2021-10-28T20:19:47.051Z"
   },
   {
    "duration": 13,
    "start_time": "2021-10-28T20:19:52.793Z"
   },
   {
    "duration": 17,
    "start_time": "2021-10-28T20:20:01.987Z"
   },
   {
    "duration": 4,
    "start_time": "2021-10-28T20:20:05.051Z"
   },
   {
    "duration": 17,
    "start_time": "2021-10-28T20:20:06.341Z"
   },
   {
    "duration": 12,
    "start_time": "2021-10-28T20:20:06.981Z"
   },
   {
    "duration": 18,
    "start_time": "2021-10-28T20:20:07.754Z"
   },
   {
    "duration": 13,
    "start_time": "2021-10-28T20:20:08.516Z"
   },
   {
    "duration": 18,
    "start_time": "2021-10-28T20:21:16.661Z"
   },
   {
    "duration": 14,
    "start_time": "2021-10-28T20:21:20.613Z"
   },
   {
    "duration": 344,
    "start_time": "2021-10-28T20:29:30.645Z"
   },
   {
    "duration": 7,
    "start_time": "2021-10-28T20:29:45.269Z"
   },
   {
    "duration": 9,
    "start_time": "2021-10-28T20:34:40.648Z"
   },
   {
    "duration": 4,
    "start_time": "2021-10-28T20:34:43.312Z"
   },
   {
    "duration": 6,
    "start_time": "2021-10-28T20:36:21.572Z"
   },
   {
    "duration": 4,
    "start_time": "2021-10-28T20:36:23.014Z"
   },
   {
    "duration": 3,
    "start_time": "2021-10-28T20:36:44.875Z"
   },
   {
    "duration": 150,
    "start_time": "2021-10-28T20:36:44.879Z"
   },
   {
    "duration": 10,
    "start_time": "2021-10-28T20:36:45.031Z"
   },
   {
    "duration": 44,
    "start_time": "2021-10-28T20:36:45.044Z"
   },
   {
    "duration": 19,
    "start_time": "2021-10-28T20:36:45.090Z"
   },
   {
    "duration": 26,
    "start_time": "2021-10-28T20:36:45.110Z"
   },
   {
    "duration": 5,
    "start_time": "2021-10-28T20:36:45.138Z"
   },
   {
    "duration": 33,
    "start_time": "2021-10-28T20:36:45.144Z"
   },
   {
    "duration": 18,
    "start_time": "2021-10-28T20:36:45.180Z"
   },
   {
    "duration": 26,
    "start_time": "2021-10-28T20:36:45.200Z"
   },
   {
    "duration": 79,
    "start_time": "2021-10-28T20:36:45.228Z"
   },
   {
    "duration": 69,
    "start_time": "2021-10-28T20:36:45.309Z"
   },
   {
    "duration": 50,
    "start_time": "2021-10-28T20:36:45.380Z"
   },
   {
    "duration": 7,
    "start_time": "2021-10-28T20:36:45.432Z"
   },
   {
    "duration": 3,
    "start_time": "2021-10-28T20:36:45.440Z"
   },
   {
    "duration": 41,
    "start_time": "2021-10-28T20:36:45.445Z"
   },
   {
    "duration": 7,
    "start_time": "2021-10-28T20:36:45.489Z"
   },
   {
    "duration": 33,
    "start_time": "2021-10-28T20:36:45.498Z"
   },
   {
    "duration": 53,
    "start_time": "2021-10-28T20:36:45.532Z"
   },
   {
    "duration": 4,
    "start_time": "2021-10-28T20:36:45.587Z"
   },
   {
    "duration": 23,
    "start_time": "2021-10-28T20:36:45.592Z"
   },
   {
    "duration": 17,
    "start_time": "2021-10-28T20:36:45.617Z"
   },
   {
    "duration": 42,
    "start_time": "2021-10-28T20:36:45.636Z"
   },
   {
    "duration": 17,
    "start_time": "2021-10-28T20:36:45.680Z"
   },
   {
    "duration": 17,
    "start_time": "2021-10-28T20:36:45.699Z"
   },
   {
    "duration": 17,
    "start_time": "2021-10-28T20:36:45.718Z"
   },
   {
    "duration": 40,
    "start_time": "2021-10-28T20:36:45.739Z"
   },
   {
    "duration": 23,
    "start_time": "2021-10-28T20:36:45.781Z"
   },
   {
    "duration": 18,
    "start_time": "2021-10-28T20:36:45.806Z"
   },
   {
    "duration": 3,
    "start_time": "2021-10-28T20:36:45.826Z"
   },
   {
    "duration": 54,
    "start_time": "2021-10-28T20:36:45.831Z"
   },
   {
    "duration": 14,
    "start_time": "2021-10-28T20:36:45.887Z"
   },
   {
    "duration": 18,
    "start_time": "2021-10-28T20:36:45.903Z"
   },
   {
    "duration": 14,
    "start_time": "2021-10-28T20:36:45.923Z"
   },
   {
    "duration": 43,
    "start_time": "2021-10-28T20:36:45.939Z"
   },
   {
    "duration": 4,
    "start_time": "2021-10-28T20:36:45.984Z"
   },
   {
    "duration": 8,
    "start_time": "2021-10-28T20:36:45.990Z"
   },
   {
    "duration": 5,
    "start_time": "2021-10-28T20:36:46.000Z"
   },
   {
    "duration": 536,
    "start_time": "2021-10-29T08:35:47.104Z"
   },
   {
    "duration": 134,
    "start_time": "2021-10-29T08:35:47.641Z"
   },
   {
    "duration": 16,
    "start_time": "2021-10-29T08:35:47.778Z"
   },
   {
    "duration": 24,
    "start_time": "2021-10-29T08:35:47.796Z"
   },
   {
    "duration": 4,
    "start_time": "2021-10-29T08:35:47.822Z"
   },
   {
    "duration": 23,
    "start_time": "2021-10-29T08:35:47.827Z"
   },
   {
    "duration": 3,
    "start_time": "2021-10-29T08:35:47.852Z"
   },
   {
    "duration": 49,
    "start_time": "2021-10-29T08:35:47.857Z"
   },
   {
    "duration": 15,
    "start_time": "2021-10-29T08:35:47.908Z"
   },
   {
    "duration": 23,
    "start_time": "2021-10-29T08:35:47.925Z"
   },
   {
    "duration": 74,
    "start_time": "2021-10-29T08:35:47.950Z"
   },
   {
    "duration": 67,
    "start_time": "2021-10-29T08:35:48.025Z"
   },
   {
    "duration": 49,
    "start_time": "2021-10-29T08:35:48.093Z"
   },
   {
    "duration": 7,
    "start_time": "2021-10-29T08:35:48.144Z"
   },
   {
    "duration": 3,
    "start_time": "2021-10-29T08:35:48.152Z"
   },
   {
    "duration": 40,
    "start_time": "2021-10-29T08:35:48.157Z"
   },
   {
    "duration": 6,
    "start_time": "2021-10-29T08:35:48.199Z"
   },
   {
    "duration": 34,
    "start_time": "2021-10-29T08:35:48.206Z"
   },
   {
    "duration": 29,
    "start_time": "2021-10-29T08:35:48.242Z"
   },
   {
    "duration": 4,
    "start_time": "2021-10-29T08:35:48.291Z"
   },
   {
    "duration": 19,
    "start_time": "2021-10-29T08:35:48.296Z"
   },
   {
    "duration": 13,
    "start_time": "2021-10-29T08:35:48.316Z"
   },
   {
    "duration": 13,
    "start_time": "2021-10-29T08:35:48.332Z"
   },
   {
    "duration": 12,
    "start_time": "2021-10-29T08:35:48.347Z"
   },
   {
    "duration": 43,
    "start_time": "2021-10-29T08:35:48.361Z"
   },
   {
    "duration": 13,
    "start_time": "2021-10-29T08:35:48.405Z"
   },
   {
    "duration": 9,
    "start_time": "2021-10-29T08:35:48.419Z"
   },
   {
    "duration": 20,
    "start_time": "2021-10-29T08:35:48.429Z"
   },
   {
    "duration": 40,
    "start_time": "2021-10-29T08:35:48.451Z"
   },
   {
    "duration": 3,
    "start_time": "2021-10-29T08:35:48.493Z"
   },
   {
    "duration": 21,
    "start_time": "2021-10-29T08:35:48.497Z"
   },
   {
    "duration": 11,
    "start_time": "2021-10-29T08:35:48.520Z"
   },
   {
    "duration": 15,
    "start_time": "2021-10-29T08:35:48.532Z"
   },
   {
    "duration": 11,
    "start_time": "2021-10-29T08:35:48.549Z"
   },
   {
    "duration": 36,
    "start_time": "2021-10-29T08:35:48.561Z"
   },
   {
    "duration": 6,
    "start_time": "2021-10-29T08:35:48.598Z"
   },
   {
    "duration": 7,
    "start_time": "2021-10-29T08:35:48.606Z"
   },
   {
    "duration": 4,
    "start_time": "2021-10-29T08:35:48.614Z"
   }
  ],
  "colab": {
   "collapsed_sections": [
    "E0vqbgi9ay0H",
    "VUC88oWjTJw2"
   ],
   "name": "yandex_music_project_2021.2.ipynb",
   "provenance": []
  },
  "kernelspec": {
   "display_name": "Python 3 (ipykernel)",
   "language": "python",
   "name": "python3"
  },
  "language_info": {
   "codemirror_mode": {
    "name": "ipython",
    "version": 3
   },
   "file_extension": ".py",
   "mimetype": "text/x-python",
   "name": "python",
   "nbconvert_exporter": "python",
   "pygments_lexer": "ipython3",
   "version": "3.9.13"
  },
  "toc": {
   "base_numbering": 1,
   "nav_menu": {},
   "number_sections": true,
   "sideBar": true,
   "skip_h1_title": true,
   "title_cell": "Table of Contents",
   "title_sidebar": "Contents",
   "toc_cell": false,
   "toc_position": {},
   "toc_section_display": true,
   "toc_window_display": true
  }
 },
 "nbformat": 4,
 "nbformat_minor": 1
}
